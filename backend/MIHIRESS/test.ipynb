{
 "cells": [
  {
   "cell_type": "code",
   "execution_count": 17,
   "metadata": {},
   "outputs": [
    {
     "name": "stderr",
     "output_type": "stream",
     "text": [
      "WARNING:absl:Compiled the loaded model, but the compiled metrics have yet to be built. `model.compile_metrics` will be empty until you train or evaluate the model.\n"
     ]
    },
    {
     "name": "stdout",
     "output_type": "stream",
     "text": [
      "\u001b[1m1/1\u001b[0m \u001b[32m━━━━━━━━━━━━━━━━━━━━\u001b[0m\u001b[37m\u001b[0m \u001b[1m0s\u001b[0m 84ms/step\n",
      "\u001b[1m1/1\u001b[0m \u001b[32m━━━━━━━━━━━━━━━━━━━━\u001b[0m\u001b[37m\u001b[0m \u001b[1m0s\u001b[0m 21ms/step\n",
      "\u001b[1m1/1\u001b[0m \u001b[32m━━━━━━━━━━━━━━━━━━━━\u001b[0m\u001b[37m\u001b[0m \u001b[1m0s\u001b[0m 9ms/step\n",
      "\u001b[1m1/1\u001b[0m \u001b[32m━━━━━━━━━━━━━━━━━━━━\u001b[0m\u001b[37m\u001b[0m \u001b[1m0s\u001b[0m 10ms/step\n",
      "\u001b[1m1/1\u001b[0m \u001b[32m━━━━━━━━━━━━━━━━━━━━\u001b[0m\u001b[37m\u001b[0m \u001b[1m0s\u001b[0m 18ms/step\n",
      "\u001b[1m1/1\u001b[0m \u001b[32m━━━━━━━━━━━━━━━━━━━━\u001b[0m\u001b[37m\u001b[0m \u001b[1m0s\u001b[0m 9ms/step\n",
      "\u001b[1m1/1\u001b[0m \u001b[32m━━━━━━━━━━━━━━━━━━━━\u001b[0m\u001b[37m\u001b[0m \u001b[1m0s\u001b[0m 8ms/step\n",
      "\u001b[1m1/1\u001b[0m \u001b[32m━━━━━━━━━━━━━━━━━━━━\u001b[0m\u001b[37m\u001b[0m \u001b[1m0s\u001b[0m 9ms/step\n"
     ]
    },
    {
     "name": "stderr",
     "output_type": "stream",
     "text": [
      "WARNING:absl:Compiled the loaded model, but the compiled metrics have yet to be built. `model.compile_metrics` will be empty until you train or evaluate the model.\n"
     ]
    },
    {
     "name": "stdout",
     "output_type": "stream",
     "text": [
      "\u001b[1m1/1\u001b[0m \u001b[32m━━━━━━━━━━━━━━━━━━━━\u001b[0m\u001b[37m\u001b[0m \u001b[1m0s\u001b[0m 80ms/step\n",
      "\u001b[1m1/1\u001b[0m \u001b[32m━━━━━━━━━━━━━━━━━━━━\u001b[0m\u001b[37m\u001b[0m \u001b[1m0s\u001b[0m 9ms/step\n",
      "\u001b[1m1/1\u001b[0m \u001b[32m━━━━━━━━━━━━━━━━━━━━\u001b[0m\u001b[37m\u001b[0m \u001b[1m0s\u001b[0m 9ms/step\n",
      "\u001b[1m1/1\u001b[0m \u001b[32m━━━━━━━━━━━━━━━━━━━━\u001b[0m\u001b[37m\u001b[0m \u001b[1m0s\u001b[0m 10ms/step\n",
      "\u001b[1m1/1\u001b[0m \u001b[32m━━━━━━━━━━━━━━━━━━━━\u001b[0m\u001b[37m\u001b[0m \u001b[1m0s\u001b[0m 9ms/step\n",
      "\u001b[1m1/1\u001b[0m \u001b[32m━━━━━━━━━━━━━━━━━━━━\u001b[0m\u001b[37m\u001b[0m \u001b[1m0s\u001b[0m 9ms/step\n",
      "\u001b[1m1/1\u001b[0m \u001b[32m━━━━━━━━━━━━━━━━━━━━\u001b[0m\u001b[37m\u001b[0m \u001b[1m0s\u001b[0m 9ms/step\n",
      "\u001b[1m1/1\u001b[0m \u001b[32m━━━━━━━━━━━━━━━━━━━━\u001b[0m\u001b[37m\u001b[0m \u001b[1m0s\u001b[0m 9ms/step\n"
     ]
    },
    {
     "name": "stderr",
     "output_type": "stream",
     "text": [
      "WARNING:absl:Compiled the loaded model, but the compiled metrics have yet to be built. `model.compile_metrics` will be empty until you train or evaluate the model.\n"
     ]
    },
    {
     "name": "stdout",
     "output_type": "stream",
     "text": [
      "\u001b[1m1/1\u001b[0m \u001b[32m━━━━━━━━━━━━━━━━━━━━\u001b[0m\u001b[37m\u001b[0m \u001b[1m0s\u001b[0m 83ms/step\n",
      "\u001b[1m1/1\u001b[0m \u001b[32m━━━━━━━━━━━━━━━━━━━━\u001b[0m\u001b[37m\u001b[0m \u001b[1m0s\u001b[0m 10ms/step\n",
      "\u001b[1m1/1\u001b[0m \u001b[32m━━━━━━━━━━━━━━━━━━━━\u001b[0m\u001b[37m\u001b[0m \u001b[1m0s\u001b[0m 9ms/step\n",
      "\u001b[1m1/1\u001b[0m \u001b[32m━━━━━━━━━━━━━━━━━━━━\u001b[0m\u001b[37m\u001b[0m \u001b[1m0s\u001b[0m 10ms/step\n",
      "\u001b[1m1/1\u001b[0m \u001b[32m━━━━━━━━━━━━━━━━━━━━\u001b[0m\u001b[37m\u001b[0m \u001b[1m0s\u001b[0m 10ms/step\n",
      "\u001b[1m1/1\u001b[0m \u001b[32m━━━━━━━━━━━━━━━━━━━━\u001b[0m\u001b[37m\u001b[0m \u001b[1m0s\u001b[0m 10ms/step\n",
      "\u001b[1m1/1\u001b[0m \u001b[32m━━━━━━━━━━━━━━━━━━━━\u001b[0m\u001b[37m\u001b[0m \u001b[1m0s\u001b[0m 10ms/step\n",
      "\u001b[1m1/1\u001b[0m \u001b[32m━━━━━━━━━━━━━━━━━━━━\u001b[0m\u001b[37m\u001b[0m \u001b[1m0s\u001b[0m 10ms/step\n"
     ]
    },
    {
     "name": "stderr",
     "output_type": "stream",
     "text": [
      "WARNING:absl:Compiled the loaded model, but the compiled metrics have yet to be built. `model.compile_metrics` will be empty until you train or evaluate the model.\n"
     ]
    },
    {
     "name": "stdout",
     "output_type": "stream",
     "text": [
      "\u001b[1m1/1\u001b[0m \u001b[32m━━━━━━━━━━━━━━━━━━━━\u001b[0m\u001b[37m\u001b[0m \u001b[1m0s\u001b[0m 87ms/step\n",
      "\u001b[1m1/1\u001b[0m \u001b[32m━━━━━━━━━━━━━━━━━━━━\u001b[0m\u001b[37m\u001b[0m \u001b[1m0s\u001b[0m 9ms/step\n",
      "\u001b[1m1/1\u001b[0m \u001b[32m━━━━━━━━━━━━━━━━━━━━\u001b[0m\u001b[37m\u001b[0m \u001b[1m0s\u001b[0m 9ms/step\n",
      "\u001b[1m1/1\u001b[0m \u001b[32m━━━━━━━━━━━━━━━━━━━━\u001b[0m\u001b[37m\u001b[0m \u001b[1m0s\u001b[0m 9ms/step\n",
      "\u001b[1m1/1\u001b[0m \u001b[32m━━━━━━━━━━━━━━━━━━━━\u001b[0m\u001b[37m\u001b[0m \u001b[1m0s\u001b[0m 9ms/step\n",
      "\u001b[1m1/1\u001b[0m \u001b[32m━━━━━━━━━━━━━━━━━━━━\u001b[0m\u001b[37m\u001b[0m \u001b[1m0s\u001b[0m 10ms/step\n",
      "\u001b[1m1/1\u001b[0m \u001b[32m━━━━━━━━━━━━━━━━━━━━\u001b[0m\u001b[37m\u001b[0m \u001b[1m0s\u001b[0m 9ms/step\n",
      "\u001b[1m1/1\u001b[0m \u001b[32m━━━━━━━━━━━━━━━━━━━━\u001b[0m\u001b[37m\u001b[0m \u001b[1m0s\u001b[0m 9ms/step\n"
     ]
    },
    {
     "name": "stderr",
     "output_type": "stream",
     "text": [
      "WARNING:absl:Compiled the loaded model, but the compiled metrics have yet to be built. `model.compile_metrics` will be empty until you train or evaluate the model.\n"
     ]
    },
    {
     "name": "stdout",
     "output_type": "stream",
     "text": [
      "\u001b[1m1/1\u001b[0m \u001b[32m━━━━━━━━━━━━━━━━━━━━\u001b[0m\u001b[37m\u001b[0m \u001b[1m0s\u001b[0m 85ms/step\n",
      "\u001b[1m1/1\u001b[0m \u001b[32m━━━━━━━━━━━━━━━━━━━━\u001b[0m\u001b[37m\u001b[0m \u001b[1m0s\u001b[0m 10ms/step\n",
      "\u001b[1m1/1\u001b[0m \u001b[32m━━━━━━━━━━━━━━━━━━━━\u001b[0m\u001b[37m\u001b[0m \u001b[1m0s\u001b[0m 9ms/step\n",
      "\u001b[1m1/1\u001b[0m \u001b[32m━━━━━━━━━━━━━━━━━━━━\u001b[0m\u001b[37m\u001b[0m \u001b[1m0s\u001b[0m 9ms/step\n",
      "\u001b[1m1/1\u001b[0m \u001b[32m━━━━━━━━━━━━━━━━━━━━\u001b[0m\u001b[37m\u001b[0m \u001b[1m0s\u001b[0m 9ms/step\n",
      "\u001b[1m1/1\u001b[0m \u001b[32m━━━━━━━━━━━━━━━━━━━━\u001b[0m\u001b[37m\u001b[0m \u001b[1m0s\u001b[0m 9ms/step\n",
      "\u001b[1m1/1\u001b[0m \u001b[32m━━━━━━━━━━━━━━━━━━━━\u001b[0m\u001b[37m\u001b[0m \u001b[1m0s\u001b[0m 8ms/step\n",
      "\u001b[1m1/1\u001b[0m \u001b[32m━━━━━━━━━━━━━━━━━━━━\u001b[0m\u001b[37m\u001b[0m \u001b[1m0s\u001b[0m 10ms/step\n",
      "                     AQI_PM2.5    AQI_PM10    AQI_NO2     AQI_CO    AQI_SO2\n",
      "2023-04-01 00:00:00  42.472965  102.229370  49.327312  31.932623  28.024145\n",
      "2023-04-01 01:00:00  43.372379  102.931725  49.198601  33.566483  28.203175\n",
      "2023-04-01 02:00:00  44.211086  103.279778  49.051525  34.603947  28.438957\n",
      "2023-04-01 03:00:00  44.921944  103.427887  48.899712  35.322994  28.714672\n",
      "2023-04-01 04:00:00  45.542187  103.380775  48.747456  36.013939  29.024403\n",
      "2023-04-01 05:00:00  46.092628  103.171753  48.596684  36.850441  29.361322\n",
      "2023-04-01 06:00:00  46.587616  102.838280  48.447876  37.833908  29.719286\n",
      "2023-04-01 07:00:00  47.038719  102.413216  48.300694  38.829639  30.093285\n"
     ]
    }
   ],
   "source": [
    "import pandas as pd\n",
    "import numpy as np\n",
    "from sklearn.preprocessing import MinMaxScaler\n",
    "from tensorflow.keras.models import load_model\n",
    "\n",
    "def forecast_aqi(file_path, seq_length=24, future_steps=8):\n",
    "    # Load and preprocess the dataset\n",
    "    df = pd.read_csv(file_path)\n",
    "    df.set_index('Date_Start Time', inplace=True)\n",
    "    df.drop(['Sr.NO', 'End Time'], axis=1, inplace=True)\n",
    "\n",
    "    # Ensure AQI columns are float\n",
    "    aqi_columns = ['AQI_PM2.5', 'AQI_PM10', 'AQI_NO2', 'AQI_CO', 'AQI_SO2']\n",
    "    for col in aqi_columns:\n",
    "        df[col] = df[col].astype(float)\n",
    "\n",
    "    # Normalize the data using MinMaxScaler\n",
    "    scalers = {}\n",
    "    scaled_data = {}\n",
    "    for col in aqi_columns:\n",
    "        scaler = MinMaxScaler()\n",
    "        scaled_data[col] = scaler.fit_transform(df[[col]])\n",
    "        scalers[col] = scaler\n",
    "\n",
    "    # Function to forecast future AQI values\n",
    "    def forecast_future(model, data, seq_length, future_steps):\n",
    "        future_predictions = []\n",
    "        current_seq = data[-seq_length:]  # Start from the last available sequence\n",
    "        \n",
    "        for _ in range(future_steps):\n",
    "            pred = model.predict(current_seq[np.newaxis, :, :])  # Predict next step\n",
    "            future_predictions.append(pred[0])\n",
    "            current_seq = np.append(current_seq[1:], pred, axis=0)  # Update the sequence\n",
    "        \n",
    "        return np.array(future_predictions)\n",
    "\n",
    "    # Load pre-trained models and forecast the next 'n' hours\n",
    "    future_predictions = {}\n",
    "    for col in aqi_columns:\n",
    "        model = load_model(f'{col}_LSTM_model.h5')  # Load pre-trained LSTM model\n",
    "        future_scaled_predictions = forecast_future(model, scaled_data[col], seq_length, future_steps)\n",
    "        # Inverse transform to get the actual AQI values\n",
    "        future_predictions[col] = scalers[col].inverse_transform(future_scaled_predictions).flatten()\n",
    "\n",
    "    # Convert future predictions to a DataFrame with a proper timestamp index\n",
    "    future_df = pd.DataFrame(future_predictions, index=pd.date_range(start=df.index[-1], periods=future_steps+1, freq='h')[1:])\n",
    "    return future_df\n",
    "\n",
    "# File path of the dataset\n",
    "file_path = '../ARIF/AQI_Weather_Data.csv'\n",
    "\n",
    "# Call the forecast function to get future AQI predictions\n",
    "future_df = forecast_aqi(file_path)\n",
    "\n",
    "# Display the predicted values\n",
    "print(future_df)\n"
   ]
  },
  {
   "cell_type": "code",
   "execution_count": 19,
   "metadata": {},
   "outputs": [
    {
     "name": "stderr",
     "output_type": "stream",
     "text": [
      "WARNING:absl:Compiled the loaded model, but the compiled metrics have yet to be built. `model.compile_metrics` will be empty until you train or evaluate the model.\n"
     ]
    },
    {
     "name": "stdout",
     "output_type": "stream",
     "text": [
      "\u001b[1m1/1\u001b[0m \u001b[32m━━━━━━━━━━━━━━━━━━━━\u001b[0m\u001b[37m\u001b[0m \u001b[1m0s\u001b[0m 81ms/step\n",
      "\u001b[1m1/1\u001b[0m \u001b[32m━━━━━━━━━━━━━━━━━━━━\u001b[0m\u001b[37m\u001b[0m \u001b[1m0s\u001b[0m 9ms/step\n",
      "\u001b[1m1/1\u001b[0m \u001b[32m━━━━━━━━━━━━━━━━━━━━\u001b[0m\u001b[37m\u001b[0m \u001b[1m0s\u001b[0m 8ms/step\n",
      "\u001b[1m1/1\u001b[0m \u001b[32m━━━━━━━━━━━━━━━━━━━━\u001b[0m\u001b[37m\u001b[0m \u001b[1m0s\u001b[0m 8ms/step\n",
      "\u001b[1m1/1\u001b[0m \u001b[32m━━━━━━━━━━━━━━━━━━━━\u001b[0m\u001b[37m\u001b[0m \u001b[1m0s\u001b[0m 8ms/step\n",
      "\u001b[1m1/1\u001b[0m \u001b[32m━━━━━━━━━━━━━━━━━━━━\u001b[0m\u001b[37m\u001b[0m \u001b[1m0s\u001b[0m 8ms/step\n",
      "\u001b[1m1/1\u001b[0m \u001b[32m━━━━━━━━━━━━━━━━━━━━\u001b[0m\u001b[37m\u001b[0m \u001b[1m0s\u001b[0m 8ms/step\n",
      "\u001b[1m1/1\u001b[0m \u001b[32m━━━━━━━━━━━━━━━━━━━━\u001b[0m\u001b[37m\u001b[0m \u001b[1m0s\u001b[0m 7ms/step\n"
     ]
    },
    {
     "name": "stderr",
     "output_type": "stream",
     "text": [
      "WARNING:absl:Compiled the loaded model, but the compiled metrics have yet to be built. `model.compile_metrics` will be empty until you train or evaluate the model.\n"
     ]
    },
    {
     "name": "stdout",
     "output_type": "stream",
     "text": [
      "\u001b[1m1/1\u001b[0m \u001b[32m━━━━━━━━━━━━━━━━━━━━\u001b[0m\u001b[37m\u001b[0m \u001b[1m0s\u001b[0m 79ms/step\n",
      "\u001b[1m1/1\u001b[0m \u001b[32m━━━━━━━━━━━━━━━━━━━━\u001b[0m\u001b[37m\u001b[0m \u001b[1m0s\u001b[0m 8ms/step\n",
      "\u001b[1m1/1\u001b[0m \u001b[32m━━━━━━━━━━━━━━━━━━━━\u001b[0m\u001b[37m\u001b[0m \u001b[1m0s\u001b[0m 8ms/step\n",
      "\u001b[1m1/1\u001b[0m \u001b[32m━━━━━━━━━━━━━━━━━━━━\u001b[0m\u001b[37m\u001b[0m \u001b[1m0s\u001b[0m 7ms/step\n",
      "\u001b[1m1/1\u001b[0m \u001b[32m━━━━━━━━━━━━━━━━━━━━\u001b[0m\u001b[37m\u001b[0m \u001b[1m0s\u001b[0m 7ms/step\n",
      "\u001b[1m1/1\u001b[0m \u001b[32m━━━━━━━━━━━━━━━━━━━━\u001b[0m\u001b[37m\u001b[0m \u001b[1m0s\u001b[0m 7ms/step\n",
      "\u001b[1m1/1\u001b[0m \u001b[32m━━━━━━━━━━━━━━━━━━━━\u001b[0m\u001b[37m\u001b[0m \u001b[1m0s\u001b[0m 8ms/step\n",
      "\u001b[1m1/1\u001b[0m \u001b[32m━━━━━━━━━━━━━━━━━━━━\u001b[0m\u001b[37m\u001b[0m \u001b[1m0s\u001b[0m 7ms/step\n"
     ]
    },
    {
     "name": "stderr",
     "output_type": "stream",
     "text": [
      "WARNING:absl:Compiled the loaded model, but the compiled metrics have yet to be built. `model.compile_metrics` will be empty until you train or evaluate the model.\n"
     ]
    },
    {
     "name": "stdout",
     "output_type": "stream",
     "text": [
      "\u001b[1m1/1\u001b[0m \u001b[32m━━━━━━━━━━━━━━━━━━━━\u001b[0m\u001b[37m\u001b[0m \u001b[1m0s\u001b[0m 82ms/step\n",
      "\u001b[1m1/1\u001b[0m \u001b[32m━━━━━━━━━━━━━━━━━━━━\u001b[0m\u001b[37m\u001b[0m \u001b[1m0s\u001b[0m 8ms/step\n",
      "\u001b[1m1/1\u001b[0m \u001b[32m━━━━━━━━━━━━━━━━━━━━\u001b[0m\u001b[37m\u001b[0m \u001b[1m0s\u001b[0m 8ms/step\n",
      "\u001b[1m1/1\u001b[0m \u001b[32m━━━━━━━━━━━━━━━━━━━━\u001b[0m\u001b[37m\u001b[0m \u001b[1m0s\u001b[0m 7ms/step\n",
      "\u001b[1m1/1\u001b[0m \u001b[32m━━━━━━━━━━━━━━━━━━━━\u001b[0m\u001b[37m\u001b[0m \u001b[1m0s\u001b[0m 7ms/step\n",
      "\u001b[1m1/1\u001b[0m \u001b[32m━━━━━━━━━━━━━━━━━━━━\u001b[0m\u001b[37m\u001b[0m \u001b[1m0s\u001b[0m 8ms/step\n",
      "\u001b[1m1/1\u001b[0m \u001b[32m━━━━━━━━━━━━━━━━━━━━\u001b[0m\u001b[37m\u001b[0m \u001b[1m0s\u001b[0m 7ms/step\n",
      "\u001b[1m1/1\u001b[0m \u001b[32m━━━━━━━━━━━━━━━━━━━━\u001b[0m\u001b[37m\u001b[0m \u001b[1m0s\u001b[0m 7ms/step\n"
     ]
    },
    {
     "name": "stderr",
     "output_type": "stream",
     "text": [
      "WARNING:absl:Compiled the loaded model, but the compiled metrics have yet to be built. `model.compile_metrics` will be empty until you train or evaluate the model.\n"
     ]
    },
    {
     "name": "stdout",
     "output_type": "stream",
     "text": [
      "\u001b[1m1/1\u001b[0m \u001b[32m━━━━━━━━━━━━━━━━━━━━\u001b[0m\u001b[37m\u001b[0m \u001b[1m0s\u001b[0m 81ms/step\n",
      "\u001b[1m1/1\u001b[0m \u001b[32m━━━━━━━━━━━━━━━━━━━━\u001b[0m\u001b[37m\u001b[0m \u001b[1m0s\u001b[0m 8ms/step\n",
      "\u001b[1m1/1\u001b[0m \u001b[32m━━━━━━━━━━━━━━━━━━━━\u001b[0m\u001b[37m\u001b[0m \u001b[1m0s\u001b[0m 8ms/step\n",
      "\u001b[1m1/1\u001b[0m \u001b[32m━━━━━━━━━━━━━━━━━━━━\u001b[0m\u001b[37m\u001b[0m \u001b[1m0s\u001b[0m 25ms/step\n",
      "\u001b[1m1/1\u001b[0m \u001b[32m━━━━━━━━━━━━━━━━━━━━\u001b[0m\u001b[37m\u001b[0m \u001b[1m0s\u001b[0m 8ms/step\n",
      "\u001b[1m1/1\u001b[0m \u001b[32m━━━━━━━━━━━━━━━━━━━━\u001b[0m\u001b[37m\u001b[0m \u001b[1m0s\u001b[0m 8ms/step\n",
      "\u001b[1m1/1\u001b[0m \u001b[32m━━━━━━━━━━━━━━━━━━━━\u001b[0m\u001b[37m\u001b[0m \u001b[1m0s\u001b[0m 8ms/step\n",
      "\u001b[1m1/1\u001b[0m \u001b[32m━━━━━━━━━━━━━━━━━━━━\u001b[0m\u001b[37m\u001b[0m \u001b[1m0s\u001b[0m 8ms/step\n"
     ]
    },
    {
     "name": "stderr",
     "output_type": "stream",
     "text": [
      "WARNING:absl:Compiled the loaded model, but the compiled metrics have yet to be built. `model.compile_metrics` will be empty until you train or evaluate the model.\n"
     ]
    },
    {
     "name": "stdout",
     "output_type": "stream",
     "text": [
      "\u001b[1m1/1\u001b[0m \u001b[32m━━━━━━━━━━━━━━━━━━━━\u001b[0m\u001b[37m\u001b[0m \u001b[1m0s\u001b[0m 88ms/step\n",
      "\u001b[1m1/1\u001b[0m \u001b[32m━━━━━━━━━━━━━━━━━━━━\u001b[0m\u001b[37m\u001b[0m \u001b[1m0s\u001b[0m 9ms/step\n",
      "\u001b[1m1/1\u001b[0m \u001b[32m━━━━━━━━━━━━━━━━━━━━\u001b[0m\u001b[37m\u001b[0m \u001b[1m0s\u001b[0m 8ms/step\n",
      "\u001b[1m1/1\u001b[0m \u001b[32m━━━━━━━━━━━━━━━━━━━━\u001b[0m\u001b[37m\u001b[0m \u001b[1m0s\u001b[0m 8ms/step\n",
      "\u001b[1m1/1\u001b[0m \u001b[32m━━━━━━━━━━━━━━━━━━━━\u001b[0m\u001b[37m\u001b[0m \u001b[1m0s\u001b[0m 8ms/step\n",
      "\u001b[1m1/1\u001b[0m \u001b[32m━━━━━━━━━━━━━━━━━━━━\u001b[0m\u001b[37m\u001b[0m \u001b[1m0s\u001b[0m 8ms/step\n",
      "\u001b[1m1/1\u001b[0m \u001b[32m━━━━━━━━━━━━━━━━━━━━\u001b[0m\u001b[37m\u001b[0m \u001b[1m0s\u001b[0m 9ms/step\n",
      "\u001b[1m1/1\u001b[0m \u001b[32m━━━━━━━━━━━━━━━━━━━━\u001b[0m\u001b[37m\u001b[0m \u001b[1m0s\u001b[0m 9ms/step\n",
      "                             AQI_PM2.5    AQI_PM10    AQI_NO2      AQI_CO  \\\n",
      "2024-08-19 00:05:49.847626  -18.761978   33.683098  23.624792  -45.963631   \n",
      "2024-08-19 01:05:49.847626 -110.532150   -1.685523  26.746155 -103.369652   \n",
      "2024-08-19 02:05:49.847626 -215.434692  -46.177261  29.455200 -166.950134   \n",
      "2024-08-19 03:05:49.847626 -302.007690  -97.323051  31.822323 -230.052765   \n",
      "2024-08-19 04:05:49.847626 -352.337891 -149.779343  33.902912 -285.457611   \n",
      "2024-08-19 05:05:49.847626 -374.706970 -196.995850  35.741009 -328.595825   \n",
      "2024-08-19 06:05:49.847626 -383.282349 -234.247513  37.372246 -358.900909   \n",
      "2024-08-19 07:05:49.847626 -386.366547 -260.417633  38.825699 -378.597504   \n",
      "\n",
      "                               AQI_SO2  \n",
      "2024-08-19 00:05:49.847626  -47.008671  \n",
      "2024-08-19 01:05:49.847626 -122.318588  \n",
      "2024-08-19 02:05:49.847626 -210.089890  \n",
      "2024-08-19 03:05:49.847626 -296.551971  \n",
      "2024-08-19 04:05:49.847626 -366.719025  \n",
      "2024-08-19 05:05:49.847626 -414.065094  \n",
      "2024-08-19 06:05:49.847626 -441.735352  \n",
      "2024-08-19 07:05:49.847626 -456.460510  \n"
     ]
    },
    {
     "name": "stderr",
     "output_type": "stream",
     "text": [
      "/var/folders/0b/tbcb989n38q5j2gz3d4zcx680000gn/T/ipykernel_68398/3387477458.py:55: FutureWarning: 'H' is deprecated and will be removed in a future version, please use 'h' instead.\n",
      "  future_df = pd.DataFrame(future_predictions, index=pd.date_range(start=pd.Timestamp.now(), periods=future_steps, freq='H'))\n"
     ]
    }
   ],
   "source": [
    "import numpy as np\n",
    "from sklearn.preprocessing import MinMaxScaler\n",
    "from tensorflow.keras.models import load_model\n",
    "import pandas as pd\n",
    "\n",
    "def forecast_aqi_from_current(current_aqi, seq_length=24, future_steps=8):\n",
    "    \"\"\"\n",
    "    This function forecasts future AQI values based on the current AQI data passed as input.\n",
    "\n",
    "    :param current_aqi: A dictionary with current AQI values, e.g.:\n",
    "                        {'AQI_PM2.5': 45.0, 'AQI_PM10': 60.0, 'AQI_NO2': 20.0, 'AQI_CO': 1.5, 'AQI_SO2': 10.0}\n",
    "    :param seq_length: Number of previous steps to use for the LSTM model (default: 24 hours)\n",
    "    :param future_steps: Number of future hours to predict (default: 8 hours)\n",
    "    :return: A DataFrame with the predicted future AQI values for the next 'future_steps' hours.\n",
    "    \"\"\"\n",
    "    \n",
    "    aqi_columns = ['AQI_PM2.5', 'AQI_PM10', 'AQI_NO2', 'AQI_CO', 'AQI_SO2']\n",
    "\n",
    "    # Normalize current AQI values\n",
    "    scalers = {}\n",
    "    scaled_current_aqi = {}\n",
    "    \n",
    "    for col in aqi_columns:\n",
    "        scaler = MinMaxScaler()\n",
    "        # Fit the scaler on a range, assuming typical AQI value ranges (e.g., 0 to 500 for PM2.5 and PM10, etc.)\n",
    "        scaler.fit(np.array([0, 500]).reshape(-1, 1))\n",
    "        scaled_current_aqi[col] = scaler.transform(np.array(current_aqi[col]).reshape(-1, 1))\n",
    "        scalers[col] = scaler\n",
    "\n",
    "    # Function to forecast future AQI values\n",
    "    def forecast_future(model, data, seq_length, future_steps):\n",
    "        future_predictions = []\n",
    "        current_seq = np.array(data[-seq_length:])  # Start from the last available sequence\n",
    "        \n",
    "        for _ in range(future_steps):\n",
    "            pred = model.predict(current_seq[np.newaxis, :, :])  # Predict next step\n",
    "            future_predictions.append(pred[0])\n",
    "            current_seq = np.append(current_seq[1:], pred, axis=0)  # Update the sequence\n",
    "\n",
    "        return np.array(future_predictions)\n",
    "\n",
    "    # Load pre-trained models and forecast the next 'n' hours\n",
    "    future_predictions = {}\n",
    "    \n",
    "    for col in aqi_columns:\n",
    "        model = load_model(f'{col}_LSTM_model.h5')  # Load pre-trained LSTM model\n",
    "        \n",
    "        # Assuming current AQI values serve as the last known sequence\n",
    "        future_scaled_predictions = forecast_future(model, scaled_current_aqi[col], seq_length, future_steps)\n",
    "        \n",
    "        # Inverse transform to get the actual AQI values\n",
    "        future_predictions[col] = scalers[col].inverse_transform(future_scaled_predictions).flatten()\n",
    "\n",
    "    # Convert future predictions to a DataFrame with a proper timestamp index\n",
    "    future_df = pd.DataFrame(future_predictions, index=pd.date_range(start=pd.Timestamp.now(), periods=future_steps, freq='H'))\n",
    "    return future_df\n",
    "\n",
    "# Example Usage:\n",
    "current_aqi = {\n",
    "    'AQI_PM2.5': 45.0,\n",
    "    'AQI_PM10': 60.0,\n",
    "    'AQI_NO2': 20.0,\n",
    "    'AQI_CO': 1.5,\n",
    "    'AQI_SO2': 10.0\n",
    "}\n",
    "\n",
    "# Call the function to get future AQI predictions\n",
    "future_df = forecast_aqi_from_current(current_aqi)\n",
    "\n",
    "# Display the predicted future AQI values\n",
    "print(future_df)\n"
   ]
  },
  {
   "cell_type": "code",
   "execution_count": 20,
   "metadata": {},
   "outputs": [
    {
     "name": "stdout",
     "output_type": "stream",
     "text": [
      "(Timestamp('2024-08-19 00:05:49.847626'), AQI_PM2.5   -18.761978\n",
      "AQI_PM10     33.683098\n",
      "AQI_NO2      23.624792\n",
      "AQI_CO      -45.963631\n",
      "AQI_SO2     -47.008671\n",
      "Name: 2024-08-19 00:05:49.847626, dtype: float32)\n",
      "(Timestamp('2024-08-19 01:05:49.847626'), AQI_PM2.5   -110.532150\n",
      "AQI_PM10      -1.685523\n",
      "AQI_NO2       26.746155\n",
      "AQI_CO      -103.369652\n",
      "AQI_SO2     -122.318588\n",
      "Name: 2024-08-19 01:05:49.847626, dtype: float32)\n",
      "(Timestamp('2024-08-19 02:05:49.847626'), AQI_PM2.5   -215.434692\n",
      "AQI_PM10     -46.177261\n",
      "AQI_NO2       29.455200\n",
      "AQI_CO      -166.950134\n",
      "AQI_SO2     -210.089890\n",
      "Name: 2024-08-19 02:05:49.847626, dtype: float32)\n",
      "(Timestamp('2024-08-19 03:05:49.847626'), AQI_PM2.5   -302.007690\n",
      "AQI_PM10     -97.323051\n",
      "AQI_NO2       31.822323\n",
      "AQI_CO      -230.052765\n",
      "AQI_SO2     -296.551971\n",
      "Name: 2024-08-19 03:05:49.847626, dtype: float32)\n",
      "(Timestamp('2024-08-19 04:05:49.847626'), AQI_PM2.5   -352.337891\n",
      "AQI_PM10    -149.779343\n",
      "AQI_NO2       33.902912\n",
      "AQI_CO      -285.457611\n",
      "AQI_SO2     -366.719025\n",
      "Name: 2024-08-19 04:05:49.847626, dtype: float32)\n",
      "(Timestamp('2024-08-19 05:05:49.847626'), AQI_PM2.5   -374.706970\n",
      "AQI_PM10    -196.995850\n",
      "AQI_NO2       35.741009\n",
      "AQI_CO      -328.595825\n",
      "AQI_SO2     -414.065094\n",
      "Name: 2024-08-19 05:05:49.847626, dtype: float32)\n",
      "(Timestamp('2024-08-19 06:05:49.847626'), AQI_PM2.5   -383.282349\n",
      "AQI_PM10    -234.247513\n",
      "AQI_NO2       37.372246\n",
      "AQI_CO      -358.900909\n",
      "AQI_SO2     -441.735352\n",
      "Name: 2024-08-19 06:05:49.847626, dtype: float32)\n",
      "(Timestamp('2024-08-19 07:05:49.847626'), AQI_PM2.5   -386.366547\n",
      "AQI_PM10    -260.417633\n",
      "AQI_NO2       38.825699\n",
      "AQI_CO      -378.597504\n",
      "AQI_SO2     -456.460510\n",
      "Name: 2024-08-19 07:05:49.847626, dtype: float32)\n"
     ]
    }
   ],
   "source": [
    "for row in future_df.iterrows():\n",
    "    print(row)"
   ]
  },
  {
   "cell_type": "code",
   "execution_count": null,
   "metadata": {},
   "outputs": [],
   "source": []
  }
 ],
 "metadata": {
  "kernelspec": {
   "display_name": "Python 3",
   "language": "python",
   "name": "python3"
  },
  "language_info": {
   "codemirror_mode": {
    "name": "ipython",
    "version": 3
   },
   "file_extension": ".py",
   "mimetype": "text/x-python",
   "name": "python",
   "nbconvert_exporter": "python",
   "pygments_lexer": "ipython3",
   "version": "3.12.2"
  }
 },
 "nbformat": 4,
 "nbformat_minor": 2
}
