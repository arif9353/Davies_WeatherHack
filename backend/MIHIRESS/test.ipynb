{
 "cells": [
  {
   "cell_type": "code",
   "execution_count": 2,
   "metadata": {},
   "outputs": [
    {
     "name": "stderr",
     "output_type": "stream",
     "text": [
      "WARNING:absl:Compiled the loaded model, but the compiled metrics have yet to be built. `model.compile_metrics` will be empty until you train or evaluate the model.\n"
     ]
    },
    {
     "name": "stdout",
     "output_type": "stream",
     "text": [
      "\u001b[1m1/1\u001b[0m \u001b[32m━━━━━━━━━━━━━━━━━━━━\u001b[0m\u001b[37m\u001b[0m \u001b[1m0s\u001b[0m 104ms/step\n",
      "\u001b[1m1/1\u001b[0m \u001b[32m━━━━━━━━━━━━━━━━━━━━\u001b[0m\u001b[37m\u001b[0m \u001b[1m0s\u001b[0m 10ms/step\n",
      "\u001b[1m1/1\u001b[0m \u001b[32m━━━━━━━━━━━━━━━━━━━━\u001b[0m\u001b[37m\u001b[0m \u001b[1m0s\u001b[0m 10ms/step\n",
      "\u001b[1m1/1\u001b[0m \u001b[32m━━━━━━━━━━━━━━━━━━━━\u001b[0m\u001b[37m\u001b[0m \u001b[1m0s\u001b[0m 10ms/step\n",
      "\u001b[1m1/1\u001b[0m \u001b[32m━━━━━━━━━━━━━━━━━━━━\u001b[0m\u001b[37m\u001b[0m \u001b[1m0s\u001b[0m 9ms/step\n",
      "\u001b[1m1/1\u001b[0m \u001b[32m━━━━━━━━━━━━━━━━━━━━\u001b[0m\u001b[37m\u001b[0m \u001b[1m0s\u001b[0m 9ms/step\n",
      "\u001b[1m1/1\u001b[0m \u001b[32m━━━━━━━━━━━━━━━━━━━━\u001b[0m\u001b[37m\u001b[0m \u001b[1m0s\u001b[0m 9ms/step\n",
      "\u001b[1m1/1\u001b[0m \u001b[32m━━━━━━━━━━━━━━━━━━━━\u001b[0m\u001b[37m\u001b[0m \u001b[1m0s\u001b[0m 9ms/step\n"
     ]
    },
    {
     "name": "stderr",
     "output_type": "stream",
     "text": [
      "WARNING:absl:Compiled the loaded model, but the compiled metrics have yet to be built. `model.compile_metrics` will be empty until you train or evaluate the model.\n"
     ]
    },
    {
     "name": "stdout",
     "output_type": "stream",
     "text": [
      "\u001b[1m1/1\u001b[0m \u001b[32m━━━━━━━━━━━━━━━━━━━━\u001b[0m\u001b[37m\u001b[0m \u001b[1m0s\u001b[0m 84ms/step\n",
      "\u001b[1m1/1\u001b[0m \u001b[32m━━━━━━━━━━━━━━━━━━━━\u001b[0m\u001b[37m\u001b[0m \u001b[1m0s\u001b[0m 10ms/step\n",
      "\u001b[1m1/1\u001b[0m \u001b[32m━━━━━━━━━━━━━━━━━━━━\u001b[0m\u001b[37m\u001b[0m \u001b[1m0s\u001b[0m 10ms/step\n",
      "\u001b[1m1/1\u001b[0m \u001b[32m━━━━━━━━━━━━━━━━━━━━\u001b[0m\u001b[37m\u001b[0m \u001b[1m0s\u001b[0m 9ms/step\n",
      "\u001b[1m1/1\u001b[0m \u001b[32m━━━━━━━━━━━━━━━━━━━━\u001b[0m\u001b[37m\u001b[0m \u001b[1m0s\u001b[0m 9ms/step\n",
      "\u001b[1m1/1\u001b[0m \u001b[32m━━━━━━━━━━━━━━━━━━━━\u001b[0m\u001b[37m\u001b[0m \u001b[1m0s\u001b[0m 9ms/step\n",
      "\u001b[1m1/1\u001b[0m \u001b[32m━━━━━━━━━━━━━━━━━━━━\u001b[0m\u001b[37m\u001b[0m \u001b[1m0s\u001b[0m 8ms/step\n",
      "\u001b[1m1/1\u001b[0m \u001b[32m━━━━━━━━━━━━━━━━━━━━\u001b[0m\u001b[37m\u001b[0m \u001b[1m0s\u001b[0m 9ms/step\n"
     ]
    },
    {
     "name": "stderr",
     "output_type": "stream",
     "text": [
      "WARNING:absl:Compiled the loaded model, but the compiled metrics have yet to be built. `model.compile_metrics` will be empty until you train or evaluate the model.\n"
     ]
    },
    {
     "name": "stdout",
     "output_type": "stream",
     "text": [
      "\u001b[1m1/1\u001b[0m \u001b[32m━━━━━━━━━━━━━━━━━━━━\u001b[0m\u001b[37m\u001b[0m \u001b[1m0s\u001b[0m 81ms/step\n",
      "\u001b[1m1/1\u001b[0m \u001b[32m━━━━━━━━━━━━━━━━━━━━\u001b[0m\u001b[37m\u001b[0m \u001b[1m0s\u001b[0m 10ms/step\n",
      "\u001b[1m1/1\u001b[0m \u001b[32m━━━━━━━━━━━━━━━━━━━━\u001b[0m\u001b[37m\u001b[0m \u001b[1m0s\u001b[0m 9ms/step\n",
      "\u001b[1m1/1\u001b[0m \u001b[32m━━━━━━━━━━━━━━━━━━━━\u001b[0m\u001b[37m\u001b[0m \u001b[1m0s\u001b[0m 9ms/step\n",
      "\u001b[1m1/1\u001b[0m \u001b[32m━━━━━━━━━━━━━━━━━━━━\u001b[0m\u001b[37m\u001b[0m \u001b[1m0s\u001b[0m 9ms/step\n",
      "\u001b[1m1/1\u001b[0m \u001b[32m━━━━━━━━━━━━━━━━━━━━\u001b[0m\u001b[37m\u001b[0m \u001b[1m0s\u001b[0m 9ms/step\n",
      "\u001b[1m1/1\u001b[0m \u001b[32m━━━━━━━━━━━━━━━━━━━━\u001b[0m\u001b[37m\u001b[0m \u001b[1m0s\u001b[0m 8ms/step\n",
      "\u001b[1m1/1\u001b[0m \u001b[32m━━━━━━━━━━━━━━━━━━━━\u001b[0m\u001b[37m\u001b[0m \u001b[1m0s\u001b[0m 9ms/step\n"
     ]
    },
    {
     "name": "stderr",
     "output_type": "stream",
     "text": [
      "WARNING:absl:Compiled the loaded model, but the compiled metrics have yet to be built. `model.compile_metrics` will be empty until you train or evaluate the model.\n"
     ]
    },
    {
     "name": "stdout",
     "output_type": "stream",
     "text": [
      "\u001b[1m1/1\u001b[0m \u001b[32m━━━━━━━━━━━━━━━━━━━━\u001b[0m\u001b[37m\u001b[0m \u001b[1m0s\u001b[0m 84ms/step\n",
      "\u001b[1m1/1\u001b[0m \u001b[32m━━━━━━━━━━━━━━━━━━━━\u001b[0m\u001b[37m\u001b[0m \u001b[1m0s\u001b[0m 10ms/step\n",
      "\u001b[1m1/1\u001b[0m \u001b[32m━━━━━━━━━━━━━━━━━━━━\u001b[0m\u001b[37m\u001b[0m \u001b[1m0s\u001b[0m 9ms/step\n",
      "\u001b[1m1/1\u001b[0m \u001b[32m━━━━━━━━━━━━━━━━━━━━\u001b[0m\u001b[37m\u001b[0m \u001b[1m0s\u001b[0m 10ms/step\n",
      "\u001b[1m1/1\u001b[0m \u001b[32m━━━━━━━━━━━━━━━━━━━━\u001b[0m\u001b[37m\u001b[0m \u001b[1m0s\u001b[0m 9ms/step\n",
      "\u001b[1m1/1\u001b[0m \u001b[32m━━━━━━━━━━━━━━━━━━━━\u001b[0m\u001b[37m\u001b[0m \u001b[1m0s\u001b[0m 9ms/step\n",
      "\u001b[1m1/1\u001b[0m \u001b[32m━━━━━━━━━━━━━━━━━━━━\u001b[0m\u001b[37m\u001b[0m \u001b[1m0s\u001b[0m 10ms/step\n",
      "\u001b[1m1/1\u001b[0m \u001b[32m━━━━━━━━━━━━━━━━━━━━\u001b[0m\u001b[37m\u001b[0m \u001b[1m0s\u001b[0m 10ms/step\n"
     ]
    },
    {
     "name": "stderr",
     "output_type": "stream",
     "text": [
      "WARNING:absl:Compiled the loaded model, but the compiled metrics have yet to be built. `model.compile_metrics` will be empty until you train or evaluate the model.\n"
     ]
    },
    {
     "name": "stdout",
     "output_type": "stream",
     "text": [
      "\u001b[1m1/1\u001b[0m \u001b[32m━━━━━━━━━━━━━━━━━━━━\u001b[0m\u001b[37m\u001b[0m \u001b[1m0s\u001b[0m 106ms/step\n",
      "\u001b[1m1/1\u001b[0m \u001b[32m━━━━━━━━━━━━━━━━━━━━\u001b[0m\u001b[37m\u001b[0m \u001b[1m0s\u001b[0m 12ms/step\n",
      "\u001b[1m1/1\u001b[0m \u001b[32m━━━━━━━━━━━━━━━━━━━━\u001b[0m\u001b[37m\u001b[0m \u001b[1m0s\u001b[0m 10ms/step\n",
      "\u001b[1m1/1\u001b[0m \u001b[32m━━━━━━━━━━━━━━━━━━━━\u001b[0m\u001b[37m\u001b[0m \u001b[1m0s\u001b[0m 9ms/step\n",
      "\u001b[1m1/1\u001b[0m \u001b[32m━━━━━━━━━━━━━━━━━━━━\u001b[0m\u001b[37m\u001b[0m \u001b[1m0s\u001b[0m 10ms/step\n",
      "\u001b[1m1/1\u001b[0m \u001b[32m━━━━━━━━━━━━━━━━━━━━\u001b[0m\u001b[37m\u001b[0m \u001b[1m0s\u001b[0m 9ms/step\n",
      "\u001b[1m1/1\u001b[0m \u001b[32m━━━━━━━━━━━━━━━━━━━━\u001b[0m\u001b[37m\u001b[0m \u001b[1m0s\u001b[0m 10ms/step\n",
      "\u001b[1m1/1\u001b[0m \u001b[32m━━━━━━━━━━━━━━━━━━━━\u001b[0m\u001b[37m\u001b[0m \u001b[1m0s\u001b[0m 10ms/step\n",
      "                     AQI_PM2.5    AQI_PM10    AQI_NO2     AQI_CO    AQI_SO2\n",
      "2023-04-01 00:00:00  42.472965  102.229370  49.327312  31.932623  28.024145\n",
      "2023-04-01 01:00:00  43.372379  102.931725  49.198601  33.566483  28.203175\n",
      "2023-04-01 02:00:00  44.211086  103.279778  49.051525  34.603947  28.438957\n",
      "2023-04-01 03:00:00  44.921944  103.427887  48.899712  35.322994  28.714672\n",
      "2023-04-01 04:00:00  45.542187  103.380775  48.747456  36.013939  29.024403\n",
      "2023-04-01 05:00:00  46.092628  103.171753  48.596684  36.850441  29.361322\n",
      "2023-04-01 06:00:00  46.587616  102.838280  48.447876  37.833908  29.719286\n",
      "2023-04-01 07:00:00  47.038719  102.413216  48.300694  38.829639  30.093285\n"
     ]
    }
   ],
   "source": [
    "import pandas as pd\n",
    "import numpy as np\n",
    "from sklearn.preprocessing import MinMaxScaler\n",
    "from tensorflow.keras.models import load_model\n",
    "\n",
    "def forecast_aqi(file_path, seq_length=24, future_steps=8):\n",
    "    # Load and preprocess the dataset\n",
    "    df = pd.read_csv(file_path)\n",
    "    df.set_index('Date_Start Time', inplace=True)\n",
    "    df.drop(['Sr.NO', 'End Time'], axis=1, inplace=True)\n",
    "\n",
    "    # Ensure AQI columns are float\n",
    "    aqi_columns = ['AQI_PM2.5', 'AQI_PM10', 'AQI_NO2', 'AQI_CO', 'AQI_SO2']\n",
    "    for col in aqi_columns:\n",
    "        df[col] = df[col].astype(float)\n",
    "\n",
    "    # Normalize the data using MinMaxScaler\n",
    "    scalers = {}\n",
    "    scaled_data = {}\n",
    "    for col in aqi_columns:\n",
    "        scaler = MinMaxScaler()\n",
    "        scaled_data[col] = scaler.fit_transform(df[[col]])\n",
    "        scalers[col] = scaler\n",
    "\n",
    "    # Function to forecast future AQI values\n",
    "    def forecast_future(model, data, seq_length, future_steps):\n",
    "        future_predictions = []\n",
    "        current_seq = data[-seq_length:]  # Start from the last available sequence\n",
    "        \n",
    "        for _ in range(future_steps):\n",
    "            pred = model.predict(current_seq[np.newaxis, :, :])  # Predict next step\n",
    "            future_predictions.append(pred[0])\n",
    "            current_seq = np.append(current_seq[1:], pred, axis=0)  # Update the sequence\n",
    "        \n",
    "        return np.array(future_predictions)\n",
    "\n",
    "    # Load pre-trained models and forecast the next 'n' hours\n",
    "    future_predictions = {}\n",
    "    for col in aqi_columns:\n",
    "        model = load_model(f'{col}_LSTM_model.h5')  # Load pre-trained LSTM model\n",
    "        future_scaled_predictions = forecast_future(model, scaled_data[col], seq_length, future_steps)\n",
    "        # Inverse transform to get the actual AQI values\n",
    "        future_predictions[col] = scalers[col].inverse_transform(future_scaled_predictions).flatten()\n",
    "\n",
    "    # Convert future predictions to a DataFrame with a proper timestamp index\n",
    "    future_df = pd.DataFrame(future_predictions, index=pd.date_range(start=df.index[-1], periods=future_steps+1, freq='h')[1:])\n",
    "    return future_df\n",
    "\n",
    "# File path of the dataset\n",
    "file_path = '../ARIF/AQI_Weather_Data.csv'\n",
    "\n",
    "# Call the forecast function to get future AQI predictions\n",
    "future_df = forecast_aqi(file_path)\n",
    "\n",
    "# Display the predicted values\n",
    "print(future_df)\n"
   ]
  },
  {
   "cell_type": "code",
   "execution_count": 10,
   "metadata": {},
   "outputs": [
    {
     "name": "stdout",
     "output_type": "stream",
     "text": [
      "AQI_PM2.5     42.472965\n",
      "AQI_PM10     102.229370\n",
      "AQI_NO2       49.327312\n",
      "AQI_CO        31.932623\n",
      "AQI_SO2       28.024145\n",
      "Name: 2023-04-01 00:00:00, dtype: float32\n",
      "<class 'pandas.core.series.Series'>\n",
      "AQI_PM2.5     43.372379\n",
      "AQI_PM10     102.931725\n",
      "AQI_NO2       49.198601\n",
      "AQI_CO        33.566483\n",
      "AQI_SO2       28.203175\n",
      "Name: 2023-04-01 01:00:00, dtype: float32\n",
      "<class 'pandas.core.series.Series'>\n",
      "AQI_PM2.5     44.211086\n",
      "AQI_PM10     103.279778\n",
      "AQI_NO2       49.051525\n",
      "AQI_CO        34.603947\n",
      "AQI_SO2       28.438957\n",
      "Name: 2023-04-01 02:00:00, dtype: float32\n",
      "<class 'pandas.core.series.Series'>\n",
      "AQI_PM2.5     44.921944\n",
      "AQI_PM10     103.427887\n",
      "AQI_NO2       48.899712\n",
      "AQI_CO        35.322994\n",
      "AQI_SO2       28.714672\n",
      "Name: 2023-04-01 03:00:00, dtype: float32\n",
      "<class 'pandas.core.series.Series'>\n",
      "AQI_PM2.5     45.542187\n",
      "AQI_PM10     103.380775\n",
      "AQI_NO2       48.747456\n",
      "AQI_CO        36.013939\n",
      "AQI_SO2       29.024403\n",
      "Name: 2023-04-01 04:00:00, dtype: float32\n",
      "<class 'pandas.core.series.Series'>\n",
      "AQI_PM2.5     46.092628\n",
      "AQI_PM10     103.171753\n",
      "AQI_NO2       48.596684\n",
      "AQI_CO        36.850441\n",
      "AQI_SO2       29.361322\n",
      "Name: 2023-04-01 05:00:00, dtype: float32\n",
      "<class 'pandas.core.series.Series'>\n",
      "AQI_PM2.5     46.587616\n",
      "AQI_PM10     102.838280\n",
      "AQI_NO2       48.447876\n",
      "AQI_CO        37.833908\n",
      "AQI_SO2       29.719286\n",
      "Name: 2023-04-01 06:00:00, dtype: float32\n",
      "<class 'pandas.core.series.Series'>\n",
      "AQI_PM2.5     47.038719\n",
      "AQI_PM10     102.413216\n",
      "AQI_NO2       48.300694\n",
      "AQI_CO        38.829639\n",
      "AQI_SO2       30.093285\n",
      "Name: 2023-04-01 07:00:00, dtype: float32\n",
      "<class 'pandas.core.series.Series'>\n"
     ]
    }
   ],
   "source": [
    "for row in future_df.iterrows():\n",
    "    print(row[1])\n",
    "    print(type(row[1]))\n"
   ]
  },
  {
   "cell_type": "code",
   "execution_count": 1,
   "metadata": {},
   "outputs": [
    {
     "name": "stderr",
     "output_type": "stream",
     "text": [
      "WARNING:absl:Compiled the loaded model, but the compiled metrics have yet to be built. `model.compile_metrics` will be empty until you train or evaluate the model.\n"
     ]
    },
    {
     "name": "stdout",
     "output_type": "stream",
     "text": [
      "\u001b[1m1/1\u001b[0m \u001b[32m━━━━━━━━━━━━━━━━━━━━\u001b[0m\u001b[37m\u001b[0m \u001b[1m0s\u001b[0m 83ms/step\n",
      "\u001b[1m1/1\u001b[0m \u001b[32m━━━━━━━━━━━━━━━━━━━━\u001b[0m\u001b[37m\u001b[0m \u001b[1m0s\u001b[0m 7ms/step\n",
      "\u001b[1m1/1\u001b[0m \u001b[32m━━━━━━━━━━━━━━━━━━━━\u001b[0m\u001b[37m\u001b[0m \u001b[1m0s\u001b[0m 7ms/step\n",
      "\u001b[1m1/1\u001b[0m \u001b[32m━━━━━━━━━━━━━━━━━━━━\u001b[0m\u001b[37m\u001b[0m \u001b[1m0s\u001b[0m 7ms/step\n",
      "\u001b[1m1/1\u001b[0m \u001b[32m━━━━━━━━━━━━━━━━━━━━\u001b[0m\u001b[37m\u001b[0m \u001b[1m0s\u001b[0m 8ms/step\n",
      "\u001b[1m1/1\u001b[0m \u001b[32m━━━━━━━━━━━━━━━━━━━━\u001b[0m\u001b[37m\u001b[0m \u001b[1m0s\u001b[0m 7ms/step\n",
      "\u001b[1m1/1\u001b[0m \u001b[32m━━━━━━━━━━━━━━━━━━━━\u001b[0m\u001b[37m\u001b[0m \u001b[1m0s\u001b[0m 7ms/step\n",
      "\u001b[1m1/1\u001b[0m \u001b[32m━━━━━━━━━━━━━━━━━━━━\u001b[0m\u001b[37m\u001b[0m \u001b[1m0s\u001b[0m 7ms/step\n"
     ]
    },
    {
     "name": "stderr",
     "output_type": "stream",
     "text": [
      "WARNING:absl:Compiled the loaded model, but the compiled metrics have yet to be built. `model.compile_metrics` will be empty until you train or evaluate the model.\n"
     ]
    },
    {
     "name": "stdout",
     "output_type": "stream",
     "text": [
      "\u001b[1m1/1\u001b[0m \u001b[32m━━━━━━━━━━━━━━━━━━━━\u001b[0m\u001b[37m\u001b[0m \u001b[1m0s\u001b[0m 75ms/step\n",
      "\u001b[1m1/1\u001b[0m \u001b[32m━━━━━━━━━━━━━━━━━━━━\u001b[0m\u001b[37m\u001b[0m \u001b[1m0s\u001b[0m 8ms/step\n",
      "\u001b[1m1/1\u001b[0m \u001b[32m━━━━━━━━━━━━━━━━━━━━\u001b[0m\u001b[37m\u001b[0m \u001b[1m0s\u001b[0m 7ms/step\n",
      "\u001b[1m1/1\u001b[0m \u001b[32m━━━━━━━━━━━━━━━━━━━━\u001b[0m\u001b[37m\u001b[0m \u001b[1m0s\u001b[0m 7ms/step\n",
      "\u001b[1m1/1\u001b[0m \u001b[32m━━━━━━━━━━━━━━━━━━━━\u001b[0m\u001b[37m\u001b[0m \u001b[1m0s\u001b[0m 7ms/step\n",
      "\u001b[1m1/1\u001b[0m \u001b[32m━━━━━━━━━━━━━━━━━━━━\u001b[0m\u001b[37m\u001b[0m \u001b[1m0s\u001b[0m 7ms/step\n",
      "\u001b[1m1/1\u001b[0m \u001b[32m━━━━━━━━━━━━━━━━━━━━\u001b[0m\u001b[37m\u001b[0m \u001b[1m0s\u001b[0m 7ms/step\n",
      "\u001b[1m1/1\u001b[0m \u001b[32m━━━━━━━━━━━━━━━━━━━━\u001b[0m\u001b[37m\u001b[0m \u001b[1m0s\u001b[0m 7ms/step\n"
     ]
    },
    {
     "name": "stderr",
     "output_type": "stream",
     "text": [
      "WARNING:absl:Compiled the loaded model, but the compiled metrics have yet to be built. `model.compile_metrics` will be empty until you train or evaluate the model.\n"
     ]
    },
    {
     "name": "stdout",
     "output_type": "stream",
     "text": [
      "\u001b[1m1/1\u001b[0m \u001b[32m━━━━━━━━━━━━━━━━━━━━\u001b[0m\u001b[37m\u001b[0m \u001b[1m0s\u001b[0m 76ms/step\n",
      "\u001b[1m1/1\u001b[0m \u001b[32m━━━━━━━━━━━━━━━━━━━━\u001b[0m\u001b[37m\u001b[0m \u001b[1m0s\u001b[0m 11ms/step\n",
      "\u001b[1m1/1\u001b[0m \u001b[32m━━━━━━━━━━━━━━━━━━━━\u001b[0m\u001b[37m\u001b[0m \u001b[1m0s\u001b[0m 7ms/step\n",
      "\u001b[1m1/1\u001b[0m \u001b[32m━━━━━━━━━━━━━━━━━━━━\u001b[0m\u001b[37m\u001b[0m \u001b[1m0s\u001b[0m 7ms/step\n",
      "\u001b[1m1/1\u001b[0m \u001b[32m━━━━━━━━━━━━━━━━━━━━\u001b[0m\u001b[37m\u001b[0m \u001b[1m0s\u001b[0m 7ms/step\n",
      "\u001b[1m1/1\u001b[0m \u001b[32m━━━━━━━━━━━━━━━━━━━━\u001b[0m\u001b[37m\u001b[0m \u001b[1m0s\u001b[0m 7ms/step\n",
      "\u001b[1m1/1\u001b[0m \u001b[32m━━━━━━━━━━━━━━━━━━━━\u001b[0m\u001b[37m\u001b[0m \u001b[1m0s\u001b[0m 7ms/step\n",
      "\u001b[1m1/1\u001b[0m \u001b[32m━━━━━━━━━━━━━━━━━━━━\u001b[0m\u001b[37m\u001b[0m \u001b[1m0s\u001b[0m 7ms/step\n"
     ]
    },
    {
     "name": "stderr",
     "output_type": "stream",
     "text": [
      "WARNING:absl:Compiled the loaded model, but the compiled metrics have yet to be built. `model.compile_metrics` will be empty until you train or evaluate the model.\n"
     ]
    },
    {
     "name": "stdout",
     "output_type": "stream",
     "text": [
      "\u001b[1m1/1\u001b[0m \u001b[32m━━━━━━━━━━━━━━━━━━━━\u001b[0m\u001b[37m\u001b[0m \u001b[1m0s\u001b[0m 78ms/step\n",
      "\u001b[1m1/1\u001b[0m \u001b[32m━━━━━━━━━━━━━━━━━━━━\u001b[0m\u001b[37m\u001b[0m \u001b[1m0s\u001b[0m 8ms/step\n",
      "\u001b[1m1/1\u001b[0m \u001b[32m━━━━━━━━━━━━━━━━━━━━\u001b[0m\u001b[37m\u001b[0m \u001b[1m0s\u001b[0m 7ms/step\n",
      "\u001b[1m1/1\u001b[0m \u001b[32m━━━━━━━━━━━━━━━━━━━━\u001b[0m\u001b[37m\u001b[0m \u001b[1m0s\u001b[0m 7ms/step\n",
      "\u001b[1m1/1\u001b[0m \u001b[32m━━━━━━━━━━━━━━━━━━━━\u001b[0m\u001b[37m\u001b[0m \u001b[1m0s\u001b[0m 7ms/step\n",
      "\u001b[1m1/1\u001b[0m \u001b[32m━━━━━━━━━━━━━━━━━━━━\u001b[0m\u001b[37m\u001b[0m \u001b[1m0s\u001b[0m 7ms/step\n",
      "\u001b[1m1/1\u001b[0m \u001b[32m━━━━━━━━━━━━━━━━━━━━\u001b[0m\u001b[37m\u001b[0m \u001b[1m0s\u001b[0m 7ms/step\n",
      "\u001b[1m1/1\u001b[0m \u001b[32m━━━━━━━━━━━━━━━━━━━━\u001b[0m\u001b[37m\u001b[0m \u001b[1m0s\u001b[0m 7ms/step\n"
     ]
    },
    {
     "name": "stderr",
     "output_type": "stream",
     "text": [
      "WARNING:absl:Compiled the loaded model, but the compiled metrics have yet to be built. `model.compile_metrics` will be empty until you train or evaluate the model.\n"
     ]
    },
    {
     "name": "stdout",
     "output_type": "stream",
     "text": [
      "\u001b[1m1/1\u001b[0m \u001b[32m━━━━━━━━━━━━━━━━━━━━\u001b[0m\u001b[37m\u001b[0m \u001b[1m0s\u001b[0m 77ms/step\n",
      "\u001b[1m1/1\u001b[0m \u001b[32m━━━━━━━━━━━━━━━━━━━━\u001b[0m\u001b[37m\u001b[0m \u001b[1m0s\u001b[0m 8ms/step\n",
      "\u001b[1m1/1\u001b[0m \u001b[32m━━━━━━━━━━━━━━━━━━━━\u001b[0m\u001b[37m\u001b[0m \u001b[1m0s\u001b[0m 7ms/step\n",
      "\u001b[1m1/1\u001b[0m \u001b[32m━━━━━━━━━━━━━━━━━━━━\u001b[0m\u001b[37m\u001b[0m \u001b[1m0s\u001b[0m 7ms/step\n",
      "\u001b[1m1/1\u001b[0m \u001b[32m━━━━━━━━━━━━━━━━━━━━\u001b[0m\u001b[37m\u001b[0m \u001b[1m0s\u001b[0m 8ms/step\n",
      "\u001b[1m1/1\u001b[0m \u001b[32m━━━━━━━━━━━━━━━━━━━━\u001b[0m\u001b[37m\u001b[0m \u001b[1m0s\u001b[0m 6ms/step\n",
      "\u001b[1m1/1\u001b[0m \u001b[32m━━━━━━━━━━━━━━━━━━━━\u001b[0m\u001b[37m\u001b[0m \u001b[1m0s\u001b[0m 7ms/step\n",
      "\u001b[1m1/1\u001b[0m \u001b[32m━━━━━━━━━━━━━━━━━━━━\u001b[0m\u001b[37m\u001b[0m \u001b[1m0s\u001b[0m 7ms/step\n",
      "                             AQI_PM2.5    AQI_PM10    AQI_NO2      AQI_CO  \\\n",
      "2024-08-19 21:52:35.250874  -18.761978   33.683098  23.624792  -45.963631   \n",
      "2024-08-19 22:52:35.250874 -110.532150   -1.685523  26.746155 -103.369652   \n",
      "2024-08-19 23:52:35.250874 -215.434692  -46.177261  29.455200 -166.950134   \n",
      "2024-08-20 00:52:35.250874 -302.007690  -97.323051  31.822323 -230.052765   \n",
      "2024-08-20 01:52:35.250874 -352.337891 -149.779343  33.902912 -285.457611   \n",
      "2024-08-20 02:52:35.250874 -374.706970 -196.995850  35.741009 -328.595825   \n",
      "2024-08-20 03:52:35.250874 -383.282349 -234.247513  37.372246 -358.900909   \n",
      "2024-08-20 04:52:35.250874 -386.366547 -260.417633  38.825699 -378.597504   \n",
      "\n",
      "                               AQI_SO2  \n",
      "2024-08-19 21:52:35.250874  -47.008671  \n",
      "2024-08-19 22:52:35.250874 -122.318588  \n",
      "2024-08-19 23:52:35.250874 -210.089890  \n",
      "2024-08-20 00:52:35.250874 -296.551971  \n",
      "2024-08-20 01:52:35.250874 -366.719025  \n",
      "2024-08-20 02:52:35.250874 -414.065094  \n",
      "2024-08-20 03:52:35.250874 -441.735352  \n",
      "2024-08-20 04:52:35.250874 -456.460510  \n"
     ]
    },
    {
     "name": "stderr",
     "output_type": "stream",
     "text": [
      "/var/folders/0b/tbcb989n38q5j2gz3d4zcx680000gn/T/ipykernel_93210/3387477458.py:55: FutureWarning: 'H' is deprecated and will be removed in a future version, please use 'h' instead.\n",
      "  future_df = pd.DataFrame(future_predictions, index=pd.date_range(start=pd.Timestamp.now(), periods=future_steps, freq='H'))\n"
     ]
    }
   ],
   "source": [
    "import numpy as np\n",
    "from sklearn.preprocessing import MinMaxScaler\n",
    "from tensorflow.keras.models import load_model\n",
    "import pandas as pd\n",
    "\n",
    "def forecast_aqi_from_current(current_aqi, seq_length=24, future_steps=8):\n",
    "    \"\"\"\n",
    "    This function forecasts future AQI values based on the current AQI data passed as input.\n",
    "\n",
    "    :param current_aqi: A dictionary with current AQI values, e.g.:\n",
    "                        {'AQI_PM2.5': 45.0, 'AQI_PM10': 60.0, 'AQI_NO2': 20.0, 'AQI_CO': 1.5, 'AQI_SO2': 10.0}\n",
    "    :param seq_length: Number of previous steps to use for the LSTM model (default: 24 hours)\n",
    "    :param future_steps: Number of future hours to predict (default: 8 hours)\n",
    "    :return: A DataFrame with the predicted future AQI values for the next 'future_steps' hours.\n",
    "    \"\"\"\n",
    "    \n",
    "    aqi_columns = ['AQI_PM2.5', 'AQI_PM10', 'AQI_NO2', 'AQI_CO', 'AQI_SO2']\n",
    "\n",
    "    # Normalize current AQI values\n",
    "    scalers = {}\n",
    "    scaled_current_aqi = {}\n",
    "    \n",
    "    for col in aqi_columns:\n",
    "        scaler = MinMaxScaler()\n",
    "        # Fit the scaler on a range, assuming typical AQI value ranges (e.g., 0 to 500 for PM2.5 and PM10, etc.)\n",
    "        scaler.fit(np.array([0, 500]).reshape(-1, 1))\n",
    "        scaled_current_aqi[col] = scaler.transform(np.array(current_aqi[col]).reshape(-1, 1))\n",
    "        scalers[col] = scaler\n",
    "\n",
    "    # Function to forecast future AQI values\n",
    "    def forecast_future(model, data, seq_length, future_steps):\n",
    "        future_predictions = []\n",
    "        current_seq = np.array(data[-seq_length:])  # Start from the last available sequence\n",
    "        \n",
    "        for _ in range(future_steps):\n",
    "            pred = model.predict(current_seq[np.newaxis, :, :])  # Predict next step\n",
    "            future_predictions.append(pred[0])\n",
    "            current_seq = np.append(current_seq[1:], pred, axis=0)  # Update the sequence\n",
    "\n",
    "        return np.array(future_predictions)\n",
    "\n",
    "    # Load pre-trained models and forecast the next 'n' hours\n",
    "    future_predictions = {}\n",
    "    \n",
    "    for col in aqi_columns:\n",
    "        model = load_model(f'{col}_LSTM_model.h5')  # Load pre-trained LSTM model\n",
    "        \n",
    "        # Assuming current AQI values serve as the last known sequence\n",
    "        future_scaled_predictions = forecast_future(model, scaled_current_aqi[col], seq_length, future_steps)\n",
    "        \n",
    "        # Inverse transform to get the actual AQI values\n",
    "        future_predictions[col] = scalers[col].inverse_transform(future_scaled_predictions).flatten()\n",
    "\n",
    "    # Convert future predictions to a DataFrame with a proper timestamp index\n",
    "    future_df = pd.DataFrame(future_predictions, index=pd.date_range(start=pd.Timestamp.now(), periods=future_steps, freq='H'))\n",
    "    return future_df\n",
    "\n",
    "# Example Usage:\n",
    "current_aqi = {\n",
    "    'AQI_PM2.5': 45.0,\n",
    "    'AQI_PM10': 60.0,\n",
    "    'AQI_NO2': 20.0,\n",
    "    'AQI_CO': 1.5,\n",
    "    'AQI_SO2': 10.0\n",
    "}\n",
    "\n",
    "# Call the function to get future AQI predictions\n",
    "future_df = forecast_aqi_from_current(current_aqi)\n",
    "\n",
    "# Display the predicted future AQI values\n",
    "print(future_df)\n"
   ]
  },
  {
   "cell_type": "code",
   "execution_count": 3,
   "metadata": {},
   "outputs": [],
   "source": [
    "from aqi_cal import calculate_aqi, get_aqi_cat\n",
    "\n",
    "breakpoints = {\n",
    "    'PM2.5': [(0, 30, 0, 50), (31, 60, 51, 100), (61, 90, 101, 200), (91, 120, 201, 300), (121, 250, 301, 400), (251, 500, 401, 500)],\n",
    "    'PM10': [(0, 50, 0, 50), (51, 100, 51, 100), (101, 250, 101, 200), (251, 350, 201, 300), (351, 430, 301, 400), (431, 500, 401, 500)],\n",
    "    'NO2': [(0, 40, 0, 50), (41, 80, 51, 100), (81, 180, 101, 200), (181, 280, 201, 300), (281, 400, 301, 400), (401, 1000, 401, 500)],\n",
    "    'SO2': [(0, 40, 0, 50), (41, 80, 51, 100), (81, 380, 101, 200), (381, 800, 201, 300), (801, 1600, 301, 400), (1601, 2100, 401, 500)],\n",
    "    'CO': [(0, 1, 0, 50), (1.1, 2, 51, 100), (2.1, 10, 101, 200), (10.1, 17, 201, 300), (17.1, 34, 301, 400), (34.1, 50, 401, 500)],\n",
    "}\n",
    "\n",
    "def ret(pm2_5, pm10, no2, co, so2):\n",
    "    try:\n",
    "        # Dictionary to store provided pollutant values\n",
    "        data = {\n",
    "            \"PM2.5\": pm2_5,\n",
    "            \"PM10\": pm10,\n",
    "            \"NO2\": no2,\n",
    "            \"CO\": co,\n",
    "            \"SO2\": so2\n",
    "        }\n",
    "\n",
    "        # Calculate AQI for each relevant pollutant based on its concentration and breakpoints\n",
    "        aqi_val = {}\n",
    "        for pollutant, concentration in data.items():\n",
    "            if pollutant in ['PM2.5', 'PM10', 'NO2', 'CO', 'SO2']:\n",
    "                aqi_val[f'{pollutant}'] = calculate_aqi(concentration, breakpoints[pollutant])\n",
    "\n",
    "        # Calculate overall AQI by selecting the maximum value from calculated AQI values\n",
    "        overall_aqi = max(aqi_val.values())\n",
    "\n",
    "        # Get the AQI category and health impact based on the overall AQI\n",
    "        remark, health_impact = get_aqi_cat(overall_aqi)\n",
    "\n",
    "        # Identify the pollutant that contributed the most to the AQI\n",
    "        pollutant_res = list(filter(lambda x: aqi_val[x] == overall_aqi, aqi_val))[0]\n",
    "\n",
    "        # Return the final result\n",
    "        return {\n",
    "            \"aqi\": overall_aqi,\n",
    "            \"remark\": remark,\n",
    "            \"impact\": health_impact,\n",
    "            \"pollutant_res\": pollutant_res\n",
    "        }\n",
    "\n",
    "    except Exception as e:\n",
    "        print(f\"Exception in ret method: {e}\")\n",
    "        return str(e)\n"
   ]
  },
  {
   "cell_type": "code",
   "execution_count": 4,
   "metadata": {},
   "outputs": [
    {
     "name": "stdout",
     "output_type": "stream",
     "text": [
      "<class 'pandas.core.frame.DataFrame'>\n",
      "DatetimeIndex: 8 entries, 2023-04-01 00:00:00 to 2023-04-01 07:00:00\n",
      "Freq: h\n",
      "Data columns (total 5 columns):\n",
      " #   Column     Non-Null Count  Dtype  \n",
      "---  ------     --------------  -----  \n",
      " 0   AQI_PM2.5  8 non-null      float32\n",
      " 1   AQI_PM10   8 non-null      float32\n",
      " 2   AQI_NO2    8 non-null      float32\n",
      " 3   AQI_CO     8 non-null      float32\n",
      " 4   AQI_SO2    8 non-null      float32\n",
      "dtypes: float32(5)\n",
      "memory usage: 224.0 bytes\n"
     ]
    }
   ],
   "source": [
    "future_df.info()"
   ]
  },
  {
   "cell_type": "code",
   "execution_count": 8,
   "metadata": {},
   "outputs": [
    {
     "name": "stdout",
     "output_type": "stream",
     "text": [
      "<class 'numpy.float32'>\n",
      "{'aqi': 101.817, 'remark': 'Moderate', 'impact': 'Breathing discomfort to the people with lungs, asthma, and heart diseases', 'pollutant_res': 'PM10'}\n",
      "<class 'numpy.float32'>\n",
      "{'aqi': 102.283, 'remark': 'Moderate', 'impact': 'Breathing discomfort to the people with lungs, asthma, and heart diseases', 'pollutant_res': 'PM10'}\n",
      "<class 'numpy.float32'>\n",
      "{'aqi': 102.515, 'remark': 'Moderate', 'impact': 'Breathing discomfort to the people with lungs, asthma, and heart diseases', 'pollutant_res': 'PM10'}\n",
      "<class 'numpy.float32'>\n",
      "{'aqi': 102.613, 'remark': 'Moderate', 'impact': 'Breathing discomfort to the people with lungs, asthma, and heart diseases', 'pollutant_res': 'PM10'}\n",
      "<class 'numpy.float32'>\n",
      "{'aqi': 102.582, 'remark': 'Moderate', 'impact': 'Breathing discomfort to the people with lungs, asthma, and heart diseases', 'pollutant_res': 'PM10'}\n",
      "<class 'numpy.float32'>\n",
      "{'aqi': 102.443, 'remark': 'Moderate', 'impact': 'Breathing discomfort to the people with lungs, asthma, and heart diseases', 'pollutant_res': 'PM10'}\n",
      "<class 'numpy.float32'>\n",
      "{'aqi': 102.221, 'remark': 'Moderate', 'impact': 'Breathing discomfort to the people with lungs, asthma, and heart diseases', 'pollutant_res': 'PM10'}\n",
      "<class 'numpy.float32'>\n",
      "{'aqi': 101.939, 'remark': 'Moderate', 'impact': 'Breathing discomfort to the people with lungs, asthma, and heart diseases', 'pollutant_res': 'PM10'}\n"
     ]
    },
    {
     "name": "stderr",
     "output_type": "stream",
     "text": [
      "/var/folders/0b/tbcb989n38q5j2gz3d4zcx680000gn/T/ipykernel_19500/4190414085.py:3: FutureWarning: Series.__getitem__ treating keys as positions is deprecated. In a future version, integer keys will always be treated as labels (consistent with DataFrame behavior). To access a value by position, use `ser.iloc[pos]`\n",
      "  print(type(row[1][1]))\n"
     ]
    }
   ],
   "source": [
    "future_df[\"AQI_CO\"] /= 1000\n",
    "for row in future_df.iterrows():\n",
    "    print(type(row[1][1]))\n",
    "    print(ret(row[1][\"AQI_PM2.5\"], row[1][\"AQI_PM10\"], row[1][\"AQI_NO2\"], row[1][\"AQI_CO\"], row[1][\"AQI_SO2\"]))"
   ]
  },
  {
   "cell_type": "code",
   "execution_count": 25,
   "metadata": {},
   "outputs": [
    {
     "name": "stdout",
     "output_type": "stream",
     "text": [
      "/usr/local/bin/python3\n"
     ]
    }
   ],
   "source": [
    "import sys\n",
    "print(sys.executable)"
   ]
  },
  {
   "cell_type": "code",
   "execution_count": null,
   "metadata": {},
   "outputs": [],
   "source": []
  }
 ],
 "metadata": {
  "kernelspec": {
   "display_name": "Python 3",
   "language": "python",
   "name": "python3"
  },
  "language_info": {
   "codemirror_mode": {
    "name": "ipython",
    "version": 3
   },
   "file_extension": ".py",
   "mimetype": "text/x-python",
   "name": "python",
   "nbconvert_exporter": "python",
   "pygments_lexer": "ipython3",
   "version": "3.12.2"
  }
 },
 "nbformat": 4,
 "nbformat_minor": 2
}
