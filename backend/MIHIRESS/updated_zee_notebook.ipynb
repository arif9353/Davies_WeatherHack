{
 "cells": [
  {
   "cell_type": "markdown",
   "id": "50b419db",
   "metadata": {},
   "source": [
    "## Air Quality Index Prediction with LSTM Model"
   ]
  },
  {
   "cell_type": "code",
   "execution_count": 22,
   "id": "588de91b",
   "metadata": {},
   "outputs": [
    {
     "name": "stdout",
     "output_type": "stream",
     "text": [
      "              DateTime  AQI       CO    NO    NO2     O3    SO2   PM2.5  \\\n",
      "0  2020-11-25 01:00:00    5  2296.45  0.10  63.06  12.16  25.99  417.26   \n",
      "1  2020-11-25 02:00:00    5  2323.15  0.73  71.97  10.01  29.80  415.69   \n",
      "2  2020-11-25 03:00:00    5  2616.88  8.16  87.74  15.38  37.19  430.46   \n",
      "3  2020-11-25 04:00:00    5  2216.34  8.27  80.20  62.23  54.84  383.96   \n",
      "4  2020-11-25 05:00:00    5  1895.90  9.72  71.97  85.12  50.55  297.80   \n",
      "\n",
      "     PM10   NH3  \n",
      "0  457.27  4.81  \n",
      "1  457.57  6.59  \n",
      "2  477.49  8.36  \n",
      "3  422.14  5.07  \n",
      "4  331.37  8.49  \n"
     ]
    }
   ],
   "source": [
    "# Importing necessary libraries\n",
    "import numpy as np\n",
    "import pandas as pd\n",
    "import matplotlib.pyplot as plt\n",
    "from sklearn.preprocessing import MinMaxScaler\n",
    "from tensorflow.keras.models import Sequential\n",
    "from tensorflow.keras.layers import LSTM, GRU, Dense, Dropout\n",
    "from tensorflow.keras.callbacks import EarlyStopping\n",
    "from tensorflow.keras.optimizers import Adam\n",
    "from aqi_cal import ret, ret_future\n",
    "\n",
    "# Load the dataset\n",
    "data = pd.read_csv('./data/history_data.csv')\n",
    "\n",
    "# Display the first few rows of the dataset to inspect the data\n",
    "print(data.head())\n"
   ]
  },
  {
   "cell_type": "code",
   "execution_count": 13,
   "id": "ac7d02a5",
   "metadata": {},
   "outputs": [
    {
     "name": "stdout",
     "output_type": "stream",
     "text": [
      "DateTime     object\n",
      "AQI           int64\n",
      "CO          float64\n",
      "NO          float64\n",
      "NO2         float64\n",
      "O3          float64\n",
      "SO2         float64\n",
      "PM2.5       float64\n",
      "PM10        float64\n",
      "NH3         float64\n",
      "dtype: object\n",
      "              DateTime  AQI       CO    NO    NO2     O3    SO2   PM2.5  \\\n",
      "0  2020-11-25 01:00:00    5  2296.45  0.10  63.06  12.16  25.99  417.26   \n",
      "1  2020-11-25 02:00:00    5  2323.15  0.73  71.97  10.01  29.80  415.69   \n",
      "2  2020-11-25 03:00:00    5  2616.88  8.16  87.74  15.38  37.19  430.46   \n",
      "3  2020-11-25 04:00:00    5  2216.34  8.27  80.20  62.23  54.84  383.96   \n",
      "4  2020-11-25 05:00:00    5  1895.90  9.72  71.97  85.12  50.55  297.80   \n",
      "\n",
      "     PM10   NH3  \n",
      "0  457.27  4.81  \n",
      "1  457.57  6.59  \n",
      "2  477.49  8.36  \n",
      "3  422.14  5.07  \n",
      "4  331.37  8.49  \n"
     ]
    }
   ],
   "source": [
    "# Check the data types of the columns to identify which are non-numeric\n",
    "print(data.dtypes)\n",
    "\n",
    "# Select only the numeric columns for filling missing values\n",
    "numeric_columns = data.select_dtypes(include=[np.number]).columns\n",
    "\n",
    "# Fill missing values in only the numeric columns\n",
    "data[numeric_columns] = data[numeric_columns].fillna(data[numeric_columns].mean())\n",
    "\n",
    "# Display the first few rows to verify\n",
    "print(data.head())\n"
   ]
  },
  {
   "cell_type": "code",
   "execution_count": 15,
   "id": "9a16bb58",
   "metadata": {},
   "outputs": [
    {
     "name": "stdout",
     "output_type": "stream",
     "text": [
      "<class 'pandas.core.frame.DataFrame'>\n",
      "RangeIndex: 32659 entries, 0 to 32658\n",
      "Data columns (total 10 columns):\n",
      " #   Column    Non-Null Count  Dtype  \n",
      "---  ------    --------------  -----  \n",
      " 0   DateTime  32659 non-null  object \n",
      " 1   AQI       32659 non-null  int64  \n",
      " 2   CO        32659 non-null  float64\n",
      " 3   NO        32659 non-null  float64\n",
      " 4   NO2       32659 non-null  float64\n",
      " 5   O3        32659 non-null  float64\n",
      " 6   SO2       32659 non-null  float64\n",
      " 7   PM2.5     32659 non-null  float64\n",
      " 8   PM10      32659 non-null  float64\n",
      " 9   NH3       32659 non-null  float64\n",
      "dtypes: float64(8), int64(1), object(1)\n",
      "memory usage: 2.5+ MB\n"
     ]
    }
   ],
   "source": [
    "data.info()"
   ]
  },
  {
   "cell_type": "code",
   "execution_count": 16,
   "id": "eb18747d",
   "metadata": {},
   "outputs": [
    {
     "name": "stdout",
     "output_type": "stream",
     "text": [
      "       PM10     PM2.5        CO       SO2       NH3        O3\n",
      "0  0.954820  0.484383  0.264445  0.090986  0.073034  0.931889\n",
      "1  0.954847  0.482554  0.267819  0.104913  0.100061  0.931689\n",
      "2  0.956666  0.499755  0.304934  0.131927  0.126936  0.932189\n",
      "3  0.951612  0.445601  0.254323  0.196447  0.076981  0.936550\n",
      "4  0.943323  0.345259  0.213833  0.180765  0.128910  0.938680\n"
     ]
    }
   ],
   "source": [
    "# Select the relevant pollutant columns for forecasting\n",
    "pollutant_features = ['PM10', 'PM2.5', 'CO', 'SO2', 'NH3', 'O3']\n",
    "\n",
    "# Initialize the scaler\n",
    "scaler = MinMaxScaler()\n",
    "\n",
    "# Scale the data\n",
    "scaled_data = scaler.fit_transform(data[pollutant_features])\n",
    "\n",
    "# Create a DataFrame for the scaled data\n",
    "scaled_data_df = pd.DataFrame(scaled_data, columns=pollutant_features, index=data.index)\n",
    "\n",
    "# Display the scaled data\n",
    "print(scaled_data_df.head())\n"
   ]
  },
  {
   "cell_type": "code",
   "execution_count": 17,
   "id": "ac8a1346",
   "metadata": {},
   "outputs": [
    {
     "name": "stdout",
     "output_type": "stream",
     "text": [
      "(26031, 120, 6) (26031, 6) (6508, 120, 6) (6508, 6)\n"
     ]
    }
   ],
   "source": [
    "# Define the sequence length (how many past hours to use for prediction)\n",
    "SEQ_LENGTH = 120\n",
    "\n",
    "# Function to create sequences of time steps\n",
    "def create_sequences(data, seq_length):\n",
    "    sequences = []\n",
    "    labels = []\n",
    "    for i in range(len(data) - seq_length):\n",
    "        sequences.append(data[i:i + seq_length])\n",
    "        labels.append(data[i + seq_length])\n",
    "    return np.array(sequences), np.array(labels)\n",
    "\n",
    "# Create sequences from the scaled data\n",
    "X, y = create_sequences(scaled_data, SEQ_LENGTH)\n",
    "\n",
    "# Split the data into training and testing sets (80% train, 20% test)\n",
    "split_index = int(len(X) * 0.8)\n",
    "X_train, X_test = X[:split_index], X[split_index:]\n",
    "y_train, y_test = y[:split_index], y[split_index:]\n",
    "\n",
    "# Print the shapes of the training and test sets\n",
    "print(X_train.shape, y_train.shape, X_test.shape, y_test.shape)\n"
   ]
  },
  {
   "cell_type": "code",
   "execution_count": 23,
   "id": "cc41532c",
   "metadata": {},
   "outputs": [
    {
     "name": "stderr",
     "output_type": "stream",
     "text": [
      "/Library/Frameworks/Python.framework/Versions/3.12/lib/python3.12/site-packages/keras/src/layers/rnn/rnn.py:204: UserWarning: Do not pass an `input_shape`/`input_dim` argument to a layer. When using Sequential models, prefer using an `Input(shape)` object as the first layer in the model instead.\n",
      "  super().__init__(**kwargs)\n"
     ]
    },
    {
     "data": {
      "text/html": [
       "<pre style=\"white-space:pre;overflow-x:auto;line-height:normal;font-family:Menlo,'DejaVu Sans Mono',consolas,'Courier New',monospace\"><span style=\"font-weight: bold\">Model: \"sequential_2\"</span>\n",
       "</pre>\n"
      ],
      "text/plain": [
       "\u001b[1mModel: \"sequential_2\"\u001b[0m\n"
      ]
     },
     "metadata": {},
     "output_type": "display_data"
    },
    {
     "data": {
      "text/html": [
       "<pre style=\"white-space:pre;overflow-x:auto;line-height:normal;font-family:Menlo,'DejaVu Sans Mono',consolas,'Courier New',monospace\">┏━━━━━━━━━━━━━━━━━━━━━━━━━━━━━━━━━┳━━━━━━━━━━━━━━━━━━━━━━━━┳━━━━━━━━━━━━━━━┓\n",
       "┃<span style=\"font-weight: bold\"> Layer (type)                    </span>┃<span style=\"font-weight: bold\"> Output Shape           </span>┃<span style=\"font-weight: bold\">       Param # </span>┃\n",
       "┡━━━━━━━━━━━━━━━━━━━━━━━━━━━━━━━━━╇━━━━━━━━━━━━━━━━━━━━━━━━╇━━━━━━━━━━━━━━━┩\n",
       "│ lstm_4 (<span style=\"color: #0087ff; text-decoration-color: #0087ff\">LSTM</span>)                   │ (<span style=\"color: #00d7ff; text-decoration-color: #00d7ff\">None</span>, <span style=\"color: #00af00; text-decoration-color: #00af00\">120</span>, <span style=\"color: #00af00; text-decoration-color: #00af00\">100</span>)       │        <span style=\"color: #00af00; text-decoration-color: #00af00\">42,800</span> │\n",
       "├─────────────────────────────────┼────────────────────────┼───────────────┤\n",
       "│ dropout_2 (<span style=\"color: #0087ff; text-decoration-color: #0087ff\">Dropout</span>)             │ (<span style=\"color: #00d7ff; text-decoration-color: #00d7ff\">None</span>, <span style=\"color: #00af00; text-decoration-color: #00af00\">120</span>, <span style=\"color: #00af00; text-decoration-color: #00af00\">100</span>)       │             <span style=\"color: #00af00; text-decoration-color: #00af00\">0</span> │\n",
       "├─────────────────────────────────┼────────────────────────┼───────────────┤\n",
       "│ lstm_5 (<span style=\"color: #0087ff; text-decoration-color: #0087ff\">LSTM</span>)                   │ (<span style=\"color: #00d7ff; text-decoration-color: #00d7ff\">None</span>, <span style=\"color: #00af00; text-decoration-color: #00af00\">100</span>)            │        <span style=\"color: #00af00; text-decoration-color: #00af00\">80,400</span> │\n",
       "├─────────────────────────────────┼────────────────────────┼───────────────┤\n",
       "│ dropout_3 (<span style=\"color: #0087ff; text-decoration-color: #0087ff\">Dropout</span>)             │ (<span style=\"color: #00d7ff; text-decoration-color: #00d7ff\">None</span>, <span style=\"color: #00af00; text-decoration-color: #00af00\">100</span>)            │             <span style=\"color: #00af00; text-decoration-color: #00af00\">0</span> │\n",
       "├─────────────────────────────────┼────────────────────────┼───────────────┤\n",
       "│ dense_3 (<span style=\"color: #0087ff; text-decoration-color: #0087ff\">Dense</span>)                 │ (<span style=\"color: #00d7ff; text-decoration-color: #00d7ff\">None</span>, <span style=\"color: #00af00; text-decoration-color: #00af00\">6</span>)              │           <span style=\"color: #00af00; text-decoration-color: #00af00\">606</span> │\n",
       "└─────────────────────────────────┴────────────────────────┴───────────────┘\n",
       "</pre>\n"
      ],
      "text/plain": [
       "┏━━━━━━━━━━━━━━━━━━━━━━━━━━━━━━━━━┳━━━━━━━━━━━━━━━━━━━━━━━━┳━━━━━━━━━━━━━━━┓\n",
       "┃\u001b[1m \u001b[0m\u001b[1mLayer (type)                   \u001b[0m\u001b[1m \u001b[0m┃\u001b[1m \u001b[0m\u001b[1mOutput Shape          \u001b[0m\u001b[1m \u001b[0m┃\u001b[1m \u001b[0m\u001b[1m      Param #\u001b[0m\u001b[1m \u001b[0m┃\n",
       "┡━━━━━━━━━━━━━━━━━━━━━━━━━━━━━━━━━╇━━━━━━━━━━━━━━━━━━━━━━━━╇━━━━━━━━━━━━━━━┩\n",
       "│ lstm_4 (\u001b[38;5;33mLSTM\u001b[0m)                   │ (\u001b[38;5;45mNone\u001b[0m, \u001b[38;5;34m120\u001b[0m, \u001b[38;5;34m100\u001b[0m)       │        \u001b[38;5;34m42,800\u001b[0m │\n",
       "├─────────────────────────────────┼────────────────────────┼───────────────┤\n",
       "│ dropout_2 (\u001b[38;5;33mDropout\u001b[0m)             │ (\u001b[38;5;45mNone\u001b[0m, \u001b[38;5;34m120\u001b[0m, \u001b[38;5;34m100\u001b[0m)       │             \u001b[38;5;34m0\u001b[0m │\n",
       "├─────────────────────────────────┼────────────────────────┼───────────────┤\n",
       "│ lstm_5 (\u001b[38;5;33mLSTM\u001b[0m)                   │ (\u001b[38;5;45mNone\u001b[0m, \u001b[38;5;34m100\u001b[0m)            │        \u001b[38;5;34m80,400\u001b[0m │\n",
       "├─────────────────────────────────┼────────────────────────┼───────────────┤\n",
       "│ dropout_3 (\u001b[38;5;33mDropout\u001b[0m)             │ (\u001b[38;5;45mNone\u001b[0m, \u001b[38;5;34m100\u001b[0m)            │             \u001b[38;5;34m0\u001b[0m │\n",
       "├─────────────────────────────────┼────────────────────────┼───────────────┤\n",
       "│ dense_3 (\u001b[38;5;33mDense\u001b[0m)                 │ (\u001b[38;5;45mNone\u001b[0m, \u001b[38;5;34m6\u001b[0m)              │           \u001b[38;5;34m606\u001b[0m │\n",
       "└─────────────────────────────────┴────────────────────────┴───────────────┘\n"
      ]
     },
     "metadata": {},
     "output_type": "display_data"
    },
    {
     "data": {
      "text/html": [
       "<pre style=\"white-space:pre;overflow-x:auto;line-height:normal;font-family:Menlo,'DejaVu Sans Mono',consolas,'Courier New',monospace\"><span style=\"font-weight: bold\"> Total params: </span><span style=\"color: #00af00; text-decoration-color: #00af00\">123,806</span> (483.62 KB)\n",
       "</pre>\n"
      ],
      "text/plain": [
       "\u001b[1m Total params: \u001b[0m\u001b[38;5;34m123,806\u001b[0m (483.62 KB)\n"
      ]
     },
     "metadata": {},
     "output_type": "display_data"
    },
    {
     "data": {
      "text/html": [
       "<pre style=\"white-space:pre;overflow-x:auto;line-height:normal;font-family:Menlo,'DejaVu Sans Mono',consolas,'Courier New',monospace\"><span style=\"font-weight: bold\"> Trainable params: </span><span style=\"color: #00af00; text-decoration-color: #00af00\">123,806</span> (483.62 KB)\n",
       "</pre>\n"
      ],
      "text/plain": [
       "\u001b[1m Trainable params: \u001b[0m\u001b[38;5;34m123,806\u001b[0m (483.62 KB)\n"
      ]
     },
     "metadata": {},
     "output_type": "display_data"
    },
    {
     "data": {
      "text/html": [
       "<pre style=\"white-space:pre;overflow-x:auto;line-height:normal;font-family:Menlo,'DejaVu Sans Mono',consolas,'Courier New',monospace\"><span style=\"font-weight: bold\"> Non-trainable params: </span><span style=\"color: #00af00; text-decoration-color: #00af00\">0</span> (0.00 B)\n",
       "</pre>\n"
      ],
      "text/plain": [
       "\u001b[1m Non-trainable params: \u001b[0m\u001b[38;5;34m0\u001b[0m (0.00 B)\n"
      ]
     },
     "metadata": {},
     "output_type": "display_data"
    }
   ],
   "source": [
    "# Rebuild the LSTM model with changes\n",
    "model = Sequential()\n",
    "\n",
    "# First LSTM layer with fewer units and Dropout regularization\n",
    "model.add(LSTM(100, return_sequences=True, input_shape=(SEQ_LENGTH, len(pollutant_features))))\n",
    "model.add(Dropout(0.2))\n",
    "\n",
    "# Second LSTM layer\n",
    "model.add(LSTM(100, return_sequences=False))\n",
    "model.add(Dropout(0.2))\n",
    "\n",
    "# Output layer for predicting 6 pollutants\n",
    "model.add(Dense(len(pollutant_features)))\n",
    "\n",
    "# Compile the model using Adam optimizer with gradient clipping\n",
    "optimizer = Adam(learning_rate=0.001, clipnorm=1.0)  # Clipping the gradients\n",
    "model.compile(optimizer=optimizer, loss='mean_squared_error')\n",
    "\n",
    "# Early stopping to prevent overfitting\n",
    "early_stopping = EarlyStopping(monitor='val_loss', patience=5, restore_best_weights=True)\n",
    "\n",
    "# Print model summary\n",
    "model.summary()"
   ]
  },
  {
   "cell_type": "code",
   "execution_count": 24,
   "id": "e1d0d73d",
   "metadata": {},
   "outputs": [
    {
     "name": "stdout",
     "output_type": "stream",
     "text": [
      "Epoch 1/50\n",
      "\u001b[1m407/407\u001b[0m \u001b[32m━━━━━━━━━━━━━━━━━━━━\u001b[0m\u001b[37m\u001b[0m \u001b[1m42s\u001b[0m 101ms/step - loss: 0.0212 - val_loss: 0.0027\n",
      "Epoch 2/50\n",
      "\u001b[1m407/407\u001b[0m \u001b[32m━━━━━━━━━━━━━━━━━━━━\u001b[0m\u001b[37m\u001b[0m \u001b[1m41s\u001b[0m 100ms/step - loss: 0.0047 - val_loss: 0.0014\n",
      "Epoch 3/50\n",
      "\u001b[1m407/407\u001b[0m \u001b[32m━━━━━━━━━━━━━━━━━━━━\u001b[0m\u001b[37m\u001b[0m \u001b[1m41s\u001b[0m 100ms/step - loss: 0.0031 - val_loss: 9.3070e-04\n",
      "Epoch 4/50\n",
      "\u001b[1m407/407\u001b[0m \u001b[32m━━━━━━━━━━━━━━━━━━━━\u001b[0m\u001b[37m\u001b[0m \u001b[1m41s\u001b[0m 100ms/step - loss: 0.0024 - val_loss: 7.8310e-04\n",
      "Epoch 5/50\n",
      "\u001b[1m407/407\u001b[0m \u001b[32m━━━━━━━━━━━━━━━━━━━━\u001b[0m\u001b[37m\u001b[0m \u001b[1m44s\u001b[0m 107ms/step - loss: 0.0020 - val_loss: 7.1910e-04\n",
      "Epoch 6/50\n",
      "\u001b[1m407/407\u001b[0m \u001b[32m━━━━━━━━━━━━━━━━━━━━\u001b[0m\u001b[37m\u001b[0m \u001b[1m44s\u001b[0m 107ms/step - loss: 0.0017 - val_loss: 6.4180e-04\n",
      "Epoch 7/50\n",
      "\u001b[1m407/407\u001b[0m \u001b[32m━━━━━━━━━━━━━━━━━━━━\u001b[0m\u001b[37m\u001b[0m \u001b[1m43s\u001b[0m 106ms/step - loss: 0.0015 - val_loss: 6.6537e-04\n",
      "Epoch 8/50\n",
      "\u001b[1m407/407\u001b[0m \u001b[32m━━━━━━━━━━━━━━━━━━━━\u001b[0m\u001b[37m\u001b[0m \u001b[1m43s\u001b[0m 105ms/step - loss: 0.0013 - val_loss: 5.9794e-04\n",
      "Epoch 9/50\n",
      "\u001b[1m407/407\u001b[0m \u001b[32m━━━━━━━━━━━━━━━━━━━━\u001b[0m\u001b[37m\u001b[0m \u001b[1m42s\u001b[0m 103ms/step - loss: 0.0012 - val_loss: 5.4885e-04\n",
      "Epoch 10/50\n",
      "\u001b[1m407/407\u001b[0m \u001b[32m━━━━━━━━━━━━━━━━━━━━\u001b[0m\u001b[37m\u001b[0m \u001b[1m39s\u001b[0m 95ms/step - loss: 0.0011 - val_loss: 5.5122e-04\n",
      "Epoch 11/50\n",
      "\u001b[1m407/407\u001b[0m \u001b[32m━━━━━━━━━━━━━━━━━━━━\u001b[0m\u001b[37m\u001b[0m \u001b[1m40s\u001b[0m 99ms/step - loss: 9.5421e-04 - val_loss: 5.3262e-04\n",
      "Epoch 12/50\n",
      "\u001b[1m407/407\u001b[0m \u001b[32m━━━━━━━━━━━━━━━━━━━━\u001b[0m\u001b[37m\u001b[0m \u001b[1m40s\u001b[0m 99ms/step - loss: 9.0919e-04 - val_loss: 4.9003e-04\n",
      "Epoch 13/50\n",
      "\u001b[1m407/407\u001b[0m \u001b[32m━━━━━━━━━━━━━━━━━━━━\u001b[0m\u001b[37m\u001b[0m \u001b[1m37s\u001b[0m 90ms/step - loss: 7.8942e-04 - val_loss: 4.7798e-04\n",
      "Epoch 14/50\n",
      "\u001b[1m407/407\u001b[0m \u001b[32m━━━━━━━━━━━━━━━━━━━━\u001b[0m\u001b[37m\u001b[0m \u001b[1m38s\u001b[0m 92ms/step - loss: 7.4608e-04 - val_loss: 4.7289e-04\n",
      "Epoch 15/50\n",
      "\u001b[1m407/407\u001b[0m \u001b[32m━━━━━━━━━━━━━━━━━━━━\u001b[0m\u001b[37m\u001b[0m \u001b[1m37s\u001b[0m 92ms/step - loss: 6.8545e-04 - val_loss: 4.7941e-04\n",
      "Epoch 16/50\n",
      "\u001b[1m407/407\u001b[0m \u001b[32m━━━━━━━━━━━━━━━━━━━━\u001b[0m\u001b[37m\u001b[0m \u001b[1m38s\u001b[0m 93ms/step - loss: 6.8141e-04 - val_loss: 4.6929e-04\n",
      "Epoch 17/50\n",
      "\u001b[1m407/407\u001b[0m \u001b[32m━━━━━━━━━━━━━━━━━━━━\u001b[0m\u001b[37m\u001b[0m \u001b[1m39s\u001b[0m 96ms/step - loss: 6.1508e-04 - val_loss: 4.7396e-04\n",
      "Epoch 18/50\n",
      "\u001b[1m407/407\u001b[0m \u001b[32m━━━━━━━━━━━━━━━━━━━━\u001b[0m\u001b[37m\u001b[0m \u001b[1m38s\u001b[0m 94ms/step - loss: 5.8310e-04 - val_loss: 4.4257e-04\n",
      "Epoch 19/50\n",
      "\u001b[1m407/407\u001b[0m \u001b[32m━━━━━━━━━━━━━━━━━━━━\u001b[0m\u001b[37m\u001b[0m \u001b[1m39s\u001b[0m 95ms/step - loss: 5.5485e-04 - val_loss: 4.3604e-04\n",
      "Epoch 20/50\n",
      "\u001b[1m407/407\u001b[0m \u001b[32m━━━━━━━━━━━━━━━━━━━━\u001b[0m\u001b[37m\u001b[0m \u001b[1m39s\u001b[0m 97ms/step - loss: 5.4020e-04 - val_loss: 4.1549e-04\n",
      "Epoch 21/50\n",
      "\u001b[1m407/407\u001b[0m \u001b[32m━━━━━━━━━━━━━━━━━━━━\u001b[0m\u001b[37m\u001b[0m \u001b[1m39s\u001b[0m 96ms/step - loss: 5.2823e-04 - val_loss: 4.2532e-04\n",
      "Epoch 22/50\n",
      "\u001b[1m407/407\u001b[0m \u001b[32m━━━━━━━━━━━━━━━━━━━━\u001b[0m\u001b[37m\u001b[0m \u001b[1m37s\u001b[0m 92ms/step - loss: 5.1647e-04 - val_loss: 4.1820e-04\n",
      "Epoch 23/50\n",
      "\u001b[1m407/407\u001b[0m \u001b[32m━━━━━━━━━━━━━━━━━━━━\u001b[0m\u001b[37m\u001b[0m \u001b[1m39s\u001b[0m 96ms/step - loss: 5.1672e-04 - val_loss: 4.1871e-04\n",
      "Epoch 24/50\n",
      "\u001b[1m407/407\u001b[0m \u001b[32m━━━━━━━━━━━━━━━━━━━━\u001b[0m\u001b[37m\u001b[0m \u001b[1m38s\u001b[0m 93ms/step - loss: 5.1374e-04 - val_loss: 4.1274e-04\n",
      "Epoch 25/50\n",
      "\u001b[1m407/407\u001b[0m \u001b[32m━━━━━━━━━━━━━━━━━━━━\u001b[0m\u001b[37m\u001b[0m \u001b[1m38s\u001b[0m 94ms/step - loss: 4.9843e-04 - val_loss: 4.0617e-04\n",
      "Epoch 26/50\n",
      "\u001b[1m407/407\u001b[0m \u001b[32m━━━━━━━━━━━━━━━━━━━━\u001b[0m\u001b[37m\u001b[0m \u001b[1m39s\u001b[0m 96ms/step - loss: 4.8146e-04 - val_loss: 4.0896e-04\n",
      "Epoch 27/50\n",
      "\u001b[1m407/407\u001b[0m \u001b[32m━━━━━━━━━━━━━━━━━━━━\u001b[0m\u001b[37m\u001b[0m \u001b[1m38s\u001b[0m 94ms/step - loss: 4.8165e-04 - val_loss: 4.1843e-04\n",
      "Epoch 28/50\n",
      "\u001b[1m407/407\u001b[0m \u001b[32m━━━━━━━━━━━━━━━━━━━━\u001b[0m\u001b[37m\u001b[0m \u001b[1m40s\u001b[0m 97ms/step - loss: 4.8072e-04 - val_loss: 4.0446e-04\n",
      "Epoch 29/50\n",
      "\u001b[1m407/407\u001b[0m \u001b[32m━━━━━━━━━━━━━━━━━━━━\u001b[0m\u001b[37m\u001b[0m \u001b[1m40s\u001b[0m 97ms/step - loss: 4.7495e-04 - val_loss: 4.2210e-04\n",
      "Epoch 30/50\n",
      "\u001b[1m407/407\u001b[0m \u001b[32m━━━━━━━━━━━━━━━━━━━━\u001b[0m\u001b[37m\u001b[0m \u001b[1m39s\u001b[0m 95ms/step - loss: 4.7486e-04 - val_loss: 4.4019e-04\n",
      "Epoch 31/50\n",
      "\u001b[1m407/407\u001b[0m \u001b[32m━━━━━━━━━━━━━━━━━━━━\u001b[0m\u001b[37m\u001b[0m \u001b[1m39s\u001b[0m 95ms/step - loss: 4.7745e-04 - val_loss: 4.1308e-04\n",
      "Epoch 32/50\n",
      "\u001b[1m407/407\u001b[0m \u001b[32m━━━━━━━━━━━━━━━━━━━━\u001b[0m\u001b[37m\u001b[0m \u001b[1m40s\u001b[0m 98ms/step - loss: 4.4856e-04 - val_loss: 3.9087e-04\n",
      "Epoch 33/50\n",
      "\u001b[1m407/407\u001b[0m \u001b[32m━━━━━━━━━━━━━━━━━━━━\u001b[0m\u001b[37m\u001b[0m \u001b[1m39s\u001b[0m 97ms/step - loss: 4.6429e-04 - val_loss: 3.8776e-04\n",
      "Epoch 34/50\n",
      "\u001b[1m407/407\u001b[0m \u001b[32m━━━━━━━━━━━━━━━━━━━━\u001b[0m\u001b[37m\u001b[0m \u001b[1m40s\u001b[0m 98ms/step - loss: 4.5514e-04 - val_loss: 3.7990e-04\n",
      "Epoch 35/50\n",
      "\u001b[1m407/407\u001b[0m \u001b[32m━━━━━━━━━━━━━━━━━━━━\u001b[0m\u001b[37m\u001b[0m \u001b[1m38s\u001b[0m 94ms/step - loss: 4.6846e-04 - val_loss: 3.7551e-04\n",
      "Epoch 36/50\n",
      "\u001b[1m407/407\u001b[0m \u001b[32m━━━━━━━━━━━━━━━━━━━━\u001b[0m\u001b[37m\u001b[0m \u001b[1m38s\u001b[0m 93ms/step - loss: 4.4158e-04 - val_loss: 3.8925e-04\n",
      "Epoch 37/50\n",
      "\u001b[1m407/407\u001b[0m \u001b[32m━━━━━━━━━━━━━━━━━━━━\u001b[0m\u001b[37m\u001b[0m \u001b[1m39s\u001b[0m 95ms/step - loss: 4.4316e-04 - val_loss: 3.7640e-04\n",
      "Epoch 38/50\n",
      "\u001b[1m407/407\u001b[0m \u001b[32m━━━━━━━━━━━━━━━━━━━━\u001b[0m\u001b[37m\u001b[0m \u001b[1m37s\u001b[0m 90ms/step - loss: 4.3590e-04 - val_loss: 3.5918e-04\n",
      "Epoch 39/50\n",
      "\u001b[1m407/407\u001b[0m \u001b[32m━━━━━━━━━━━━━━━━━━━━\u001b[0m\u001b[37m\u001b[0m \u001b[1m39s\u001b[0m 95ms/step - loss: 4.3929e-04 - val_loss: 3.7987e-04\n",
      "Epoch 40/50\n",
      "\u001b[1m407/407\u001b[0m \u001b[32m━━━━━━━━━━━━━━━━━━━━\u001b[0m\u001b[37m\u001b[0m \u001b[1m38s\u001b[0m 94ms/step - loss: 4.4043e-04 - val_loss: 3.7240e-04\n",
      "Epoch 41/50\n",
      "\u001b[1m407/407\u001b[0m \u001b[32m━━━━━━━━━━━━━━━━━━━━\u001b[0m\u001b[37m\u001b[0m \u001b[1m38s\u001b[0m 94ms/step - loss: 4.3009e-04 - val_loss: 3.5467e-04\n",
      "Epoch 42/50\n",
      "\u001b[1m407/407\u001b[0m \u001b[32m━━━━━━━━━━━━━━━━━━━━\u001b[0m\u001b[37m\u001b[0m \u001b[1m39s\u001b[0m 96ms/step - loss: 4.2879e-04 - val_loss: 3.5113e-04\n",
      "Epoch 43/50\n",
      "\u001b[1m407/407\u001b[0m \u001b[32m━━━━━━━━━━━━━━━━━━━━\u001b[0m\u001b[37m\u001b[0m \u001b[1m38s\u001b[0m 93ms/step - loss: 4.4168e-04 - val_loss: 3.7721e-04\n",
      "Epoch 44/50\n",
      "\u001b[1m407/407\u001b[0m \u001b[32m━━━━━━━━━━━━━━━━━━━━\u001b[0m\u001b[37m\u001b[0m \u001b[1m38s\u001b[0m 94ms/step - loss: 4.0196e-04 - val_loss: 3.4383e-04\n",
      "Epoch 45/50\n",
      "\u001b[1m407/407\u001b[0m \u001b[32m━━━━━━━━━━━━━━━━━━━━\u001b[0m\u001b[37m\u001b[0m \u001b[1m40s\u001b[0m 98ms/step - loss: 4.1132e-04 - val_loss: 3.3908e-04\n",
      "Epoch 46/50\n",
      "\u001b[1m407/407\u001b[0m \u001b[32m━━━━━━━━━━━━━━━━━━━━\u001b[0m\u001b[37m\u001b[0m \u001b[1m39s\u001b[0m 95ms/step - loss: 4.1772e-04 - val_loss: 3.6932e-04\n",
      "Epoch 47/50\n",
      "\u001b[1m407/407\u001b[0m \u001b[32m━━━━━━━━━━━━━━━━━━━━\u001b[0m\u001b[37m\u001b[0m \u001b[1m39s\u001b[0m 95ms/step - loss: 4.1240e-04 - val_loss: 3.7720e-04\n",
      "Epoch 48/50\n",
      "\u001b[1m407/407\u001b[0m \u001b[32m━━━━━━━━━━━━━━━━━━━━\u001b[0m\u001b[37m\u001b[0m \u001b[1m38s\u001b[0m 94ms/step - loss: 4.0747e-04 - val_loss: 3.4170e-04\n",
      "Epoch 49/50\n",
      "\u001b[1m407/407\u001b[0m \u001b[32m━━━━━━━━━━━━━━━━━━━━\u001b[0m\u001b[37m\u001b[0m \u001b[1m39s\u001b[0m 96ms/step - loss: 4.0985e-04 - val_loss: 3.3219e-04\n",
      "Epoch 50/50\n",
      "\u001b[1m407/407\u001b[0m \u001b[32m━━━━━━━━━━━━━━━━━━━━\u001b[0m\u001b[37m\u001b[0m \u001b[1m39s\u001b[0m 95ms/step - loss: 3.9058e-04 - val_loss: 3.6110e-04\n"
     ]
    },
    {
     "data": {
      "image/png": "[encoded data removed]",
      "text/plain": [
       "<Figure size 640x480 with 1 Axes>"
      ]
     },
     "metadata": {},
     "output_type": "display_data"
    }
   ],
   "source": [
    "# Train the model\n",
    "history = model.fit(X_train, y_train, epochs=50, batch_size=64, validation_data=(X_test, y_test), callbacks=[early_stopping])\n",
    "\n",
    "# Plot the training and validation loss to see how the model performs\n",
    "plt.plot(history.history['loss'], label='Training Loss')\n",
    "plt.plot(history.history['val_loss'], label='Validation Loss')\n",
    "plt.legend()\n",
    "plt.show()\n"
   ]
  },
  {
   "cell_type": "code",
   "execution_count": 27,
   "id": "ba32700d",
   "metadata": {},
   "outputs": [
    {
     "name": "stdout",
     "output_type": "stream",
     "text": [
      "\u001b[1m1/1\u001b[0m \u001b[32m━━━━━━━━━━━━━━━━━━━━\u001b[0m\u001b[37m\u001b[0m \u001b[1m0s\u001b[0m 16ms/step\n",
      "\u001b[1m1/1\u001b[0m \u001b[32m━━━━━━━━━━━━━━━━━━━━\u001b[0m\u001b[37m\u001b[0m \u001b[1m0s\u001b[0m 16ms/step\n",
      "\u001b[1m1/1\u001b[0m \u001b[32m━━━━━━━━━━━━━━━━━━━━\u001b[0m\u001b[37m\u001b[0m \u001b[1m0s\u001b[0m 14ms/step\n",
      "\u001b[1m1/1\u001b[0m \u001b[32m━━━━━━━━━━━━━━━━━━━━\u001b[0m\u001b[37m\u001b[0m \u001b[1m0s\u001b[0m 15ms/step\n",
      "\u001b[1m1/1\u001b[0m \u001b[32m━━━━━━━━━━━━━━━━━━━━\u001b[0m\u001b[37m\u001b[0m \u001b[1m0s\u001b[0m 15ms/step\n",
      "\u001b[1m1/1\u001b[0m \u001b[32m━━━━━━━━━━━━━━━━━━━━\u001b[0m\u001b[37m\u001b[0m \u001b[1m0s\u001b[0m 16ms/step\n",
      "\u001b[1m1/1\u001b[0m \u001b[32m━━━━━━━━━━━━━━━━━━━━\u001b[0m\u001b[37m\u001b[0m \u001b[1m0s\u001b[0m 15ms/step\n"
     ]
    },
    {
     "name": "stderr",
     "output_type": "stream",
     "text": [
      "/Library/Frameworks/Python.framework/Versions/3.12/lib/python3.12/site-packages/sklearn/base.py:493: UserWarning: X does not have valid feature names, but MinMaxScaler was fitted with feature names\n",
      "  warnings.warn(\n"
     ]
    },
    {
     "name": "stdout",
     "output_type": "stream",
     "text": [
      "\u001b[1m1/1\u001b[0m \u001b[32m━━━━━━━━━━━━━━━━━━━━\u001b[0m\u001b[37m\u001b[0m \u001b[1m0s\u001b[0m 16ms/step\n",
      "Hour 1: PM10=24.72, PM2.5=17.33, CO=-2.68, SO2=1.26, NH3=-0.47, O3=24.87\n",
      "Hour 2: PM10=1675.10, PM2.5=1523.51, CO=3024.39, SO2=-67.70, NH3=-27.35, O3=816.96\n",
      "Hour 3: PM10=1822.30, PM2.5=1647.55, CO=15884.60, SO2=241.88, NH3=-3.78, O3=-205.59\n",
      "Hour 4: PM10=1629.63, PM2.5=1374.01, CO=18070.15, SO2=453.34, NH3=-5.07, O3=-238.76\n",
      "Hour 5: PM10=1749.17, PM2.5=1386.84, CO=18516.23, SO2=296.97, NH3=-14.65, O3=183.55\n",
      "Hour 6: PM10=1811.56, PM2.5=1340.86, CO=20058.94, SO2=282.48, NH3=-10.82, O3=177.54\n",
      "Hour 7: PM10=1895.23, PM2.5=1411.47, CO=21080.09, SO2=272.48, NH3=-12.83, O3=210.22\n",
      "Hour 8: PM10=1916.58, PM2.5=1406.68, CO=21341.24, SO2=265.15, NH3=-10.67, O3=212.27\n"
     ]
    }
   ],
   "source": [
    "# Predict the pollutant levels for the next 8 hours based on the current values\n",
    "def predict_next_8_hours(model, scaler, current_values, seq_length=SEQ_LENGTH, forecast_hours=8):\n",
    "    predictions = []\n",
    "    current_input = np.repeat(current_values, seq_length, axis=0)\n",
    "    \n",
    "    for _ in range(forecast_hours):\n",
    "        current_input = np.reshape(current_input, (1, seq_length, len(pollutant_features)))\n",
    "        predicted_pollutants = model.predict(current_input)\n",
    "        \n",
    "        # Inverse transform the predicted pollutants to their original scale\n",
    "        predicted_pollutants = scaler.inverse_transform(predicted_pollutants)\n",
    "        \n",
    "        # Append the predictions\n",
    "        predictions.append(predicted_pollutants[0])\n",
    "        \n",
    "        # Update the input for the next prediction\n",
    "        current_input = np.append(current_input[:, 1:, :], predicted_pollutants.reshape(1, 1, len(pollutant_features)), axis=1)\n",
    "    \n",
    "    return np.array(predictions)\n",
    "\n",
    "# Assume current_values is a numpy array of shape (1, len(pollutant_features)) with the latest pollutant data\n",
    "current_values = np.array([[37.63, 16.93, 9.45, 2.32, 0, 1.29]])  # Example values for PM10, PM2.5, CO, SO2, NH3, O3 \n",
    "# \"PM10\": \"37.63\",\n",
    "# \"PM2.5\": \"16.93\",\n",
    "# \"SO2\": \"2.32\",\n",
    "# \"NO2\": \"5.38\",\n",
    "# \"CO\": \"9.45\",\n",
    "# \"O3\": \"1.29\",\n",
    "\n",
    "# Scale the current values\n",
    "current_values_scaled = scaler.transform(current_values)\n",
    "\n",
    "# Predict the next 8 hours\n",
    "predicted_pollutants = predict_next_8_hours(model, scaler, current_values_scaled)\n",
    "\n",
    "# Print the forecasted pollutant levels for the next 8 hours\n",
    "for i, forecast in enumerate(predicted_pollutants, 1):\n",
    "    print(f\"Hour {i}: PM10={forecast[0]:.2f}, PM2.5={forecast[1]:.2f}, CO={forecast[2]:.2f}, SO2={forecast[3]:.2f}, NH3={forecast[4]:.2f}, O3={forecast[5]:.2f}\")\n"
   ]
  }
 ],
 "metadata": {
  "kernelspec": {
   "display_name": "Python 3",
   "language": "python",
   "name": "python3"
  },
  "language_info": {
   "codemirror_mode": {
    "name": "ipython",
    "version": 3
   },
   "file_extension": ".py",
   "mimetype": "text/x-python",
   "name": "python",
   "nbconvert_exporter": "python",
   "pygments_lexer": "ipython3",
   "version": "3.12.2"
  }
 },
 "nbformat": 4,
 "nbformat_minor": 5
}
