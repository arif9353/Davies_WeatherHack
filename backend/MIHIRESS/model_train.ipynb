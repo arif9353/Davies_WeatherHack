{
 "cells": [
  {
   "cell_type": "code",
   "execution_count": 1,
   "metadata": {},
   "outputs": [],
   "source": [
    "import pandas as pd"
   ]
  },
  {
   "cell_type": "code",
   "execution_count": 4,
   "metadata": {},
   "outputs": [],
   "source": [
    "data = pd.read_csv(\"./history_data.csv\")\n"
   ]
  },
  {
   "cell_type": "code",
   "execution_count": 6,
   "metadata": {},
   "outputs": [
    {
     "name": "stdout",
     "output_type": "stream",
     "text": [
      "<class 'pandas.core.frame.DataFrame'>\n",
      "RangeIndex: 32659 entries, 0 to 32658\n",
      "Data columns (total 10 columns):\n",
      " #   Column    Non-Null Count  Dtype  \n",
      "---  ------    --------------  -----  \n",
      " 0   DateTime  32659 non-null  object \n",
      " 1   AQI       32659 non-null  int64  \n",
      " 2   CO        32659 non-null  float64\n",
      " 3   NO        32659 non-null  float64\n",
      " 4   NO2       32659 non-null  float64\n",
      " 5   O3        32659 non-null  float64\n",
      " 6   SO2       32659 non-null  float64\n",
      " 7   PM2.5     32659 non-null  float64\n",
      " 8   PM10      32659 non-null  float64\n",
      " 9   NH3       32659 non-null  float64\n",
      "dtypes: float64(8), int64(1), object(1)\n",
      "memory usage: 2.5+ MB\n"
     ]
    }
   ],
   "source": [
    "data.info()"
   ]
  },
  {
   "cell_type": "code",
   "execution_count": 7,
   "metadata": {},
   "outputs": [
    {
     "name": "stdout",
     "output_type": "stream",
     "text": [
      "Requirement already satisfied: pandas in /Library/Frameworks/Python.framework/Versions/3.12/lib/python3.12/site-packages (2.2.1)\n",
      "Requirement already satisfied: numpy in /Library/Frameworks/Python.framework/Versions/3.12/lib/python3.12/site-packages (1.26.4)\n",
      "Requirement already satisfied: scikit-learn in /Library/Frameworks/Python.framework/Versions/3.12/lib/python3.12/site-packages (1.4.2)\n",
      "Requirement already satisfied: matplotlib in /Library/Frameworks/Python.framework/Versions/3.12/lib/python3.12/site-packages (3.8.4)\n",
      "Requirement already satisfied: tensorflow in /Library/Frameworks/Python.framework/Versions/3.12/lib/python3.12/site-packages (2.17.0)\n",
      "Requirement already satisfied: python-dateutil>=2.8.2 in /Library/Frameworks/Python.framework/Versions/3.12/lib/python3.12/site-packages (from pandas) (2.9.0.post0)\n",
      "Requirement already satisfied: pytz>=2020.1 in /Library/Frameworks/Python.framework/Versions/3.12/lib/python3.12/site-packages (from pandas) (2024.1)\n",
      "Requirement already satisfied: tzdata>=2022.7 in /Library/Frameworks/Python.framework/Versions/3.12/lib/python3.12/site-packages (from pandas) (2024.1)\n",
      "Requirement already satisfied: scipy>=1.6.0 in /Library/Frameworks/Python.framework/Versions/3.12/lib/python3.12/site-packages (from scikit-learn) (1.13.0)\n",
      "Requirement already satisfied: joblib>=1.2.0 in /Library/Frameworks/Python.framework/Versions/3.12/lib/python3.12/site-packages (from scikit-learn) (1.4.0)\n",
      "Requirement already satisfied: threadpoolctl>=2.0.0 in /Library/Frameworks/Python.framework/Versions/3.12/lib/python3.12/site-packages (from scikit-learn) (3.4.0)\n",
      "Requirement already satisfied: contourpy>=1.0.1 in /Library/Frameworks/Python.framework/Versions/3.12/lib/python3.12/site-packages (from matplotlib) (1.2.1)\n",
      "Requirement already satisfied: cycler>=0.10 in /Library/Frameworks/Python.framework/Versions/3.12/lib/python3.12/site-packages (from matplotlib) (0.12.1)\n",
      "Requirement already satisfied: fonttools>=4.22.0 in /Library/Frameworks/Python.framework/Versions/3.12/lib/python3.12/site-packages (from matplotlib) (4.51.0)\n",
      "Requirement already satisfied: kiwisolver>=1.3.1 in /Library/Frameworks/Python.framework/Versions/3.12/lib/python3.12/site-packages (from matplotlib) (1.4.5)\n",
      "Requirement already satisfied: packaging>=20.0 in /Library/Frameworks/Python.framework/Versions/3.12/lib/python3.12/site-packages (from matplotlib) (23.2)\n",
      "Requirement already satisfied: pillow>=8 in /Library/Frameworks/Python.framework/Versions/3.12/lib/python3.12/site-packages (from matplotlib) (10.3.0)\n",
      "Requirement already satisfied: pyparsing>=2.3.1 in /Library/Frameworks/Python.framework/Versions/3.12/lib/python3.12/site-packages (from matplotlib) (3.1.2)\n",
      "Requirement already satisfied: absl-py>=1.0.0 in /Library/Frameworks/Python.framework/Versions/3.12/lib/python3.12/site-packages (from tensorflow) (2.1.0)\n",
      "Requirement already satisfied: astunparse>=1.6.0 in /Library/Frameworks/Python.framework/Versions/3.12/lib/python3.12/site-packages (from tensorflow) (1.6.3)\n",
      "Requirement already satisfied: flatbuffers>=24.3.25 in /Library/Frameworks/Python.framework/Versions/3.12/lib/python3.12/site-packages (from tensorflow) (24.3.25)\n",
      "Requirement already satisfied: gast!=0.5.0,!=0.5.1,!=0.5.2,>=0.2.1 in /Library/Frameworks/Python.framework/Versions/3.12/lib/python3.12/site-packages (from tensorflow) (0.6.0)\n",
      "Requirement already satisfied: google-pasta>=0.1.1 in /Library/Frameworks/Python.framework/Versions/3.12/lib/python3.12/site-packages (from tensorflow) (0.2.0)\n",
      "Requirement already satisfied: h5py>=3.10.0 in /Library/Frameworks/Python.framework/Versions/3.12/lib/python3.12/site-packages (from tensorflow) (3.11.0)\n",
      "Requirement already satisfied: libclang>=13.0.0 in /Library/Frameworks/Python.framework/Versions/3.12/lib/python3.12/site-packages (from tensorflow) (18.1.1)\n",
      "Requirement already satisfied: ml-dtypes<0.5.0,>=0.3.1 in /Library/Frameworks/Python.framework/Versions/3.12/lib/python3.12/site-packages (from tensorflow) (0.4.0)\n",
      "Requirement already satisfied: opt-einsum>=2.3.2 in /Library/Frameworks/Python.framework/Versions/3.12/lib/python3.12/site-packages (from tensorflow) (3.3.0)\n",
      "Requirement already satisfied: protobuf!=4.21.0,!=4.21.1,!=4.21.2,!=4.21.3,!=4.21.4,!=4.21.5,<5.0.0dev,>=3.20.3 in /Library/Frameworks/Python.framework/Versions/3.12/lib/python3.12/site-packages (from tensorflow) (4.25.3)\n",
      "Requirement already satisfied: requests<3,>=2.21.0 in /Library/Frameworks/Python.framework/Versions/3.12/lib/python3.12/site-packages (from tensorflow) (2.31.0)\n",
      "Requirement already satisfied: setuptools in /Library/Frameworks/Python.framework/Versions/3.12/lib/python3.12/site-packages (from tensorflow) (69.2.0)\n",
      "Requirement already satisfied: six>=1.12.0 in /Library/Frameworks/Python.framework/Versions/3.12/lib/python3.12/site-packages (from tensorflow) (1.16.0)\n",
      "Requirement already satisfied: termcolor>=1.1.0 in /Library/Frameworks/Python.framework/Versions/3.12/lib/python3.12/site-packages (from tensorflow) (2.4.0)\n",
      "Requirement already satisfied: typing-extensions>=3.6.6 in /Library/Frameworks/Python.framework/Versions/3.12/lib/python3.12/site-packages (from tensorflow) (4.11.0)\n",
      "Requirement already satisfied: wrapt>=1.11.0 in /Library/Frameworks/Python.framework/Versions/3.12/lib/python3.12/site-packages (from tensorflow) (1.16.0)\n",
      "Requirement already satisfied: grpcio<2.0,>=1.24.3 in /Library/Frameworks/Python.framework/Versions/3.12/lib/python3.12/site-packages (from tensorflow) (1.62.1)\n",
      "Requirement already satisfied: tensorboard<2.18,>=2.17 in /Library/Frameworks/Python.framework/Versions/3.12/lib/python3.12/site-packages (from tensorflow) (2.17.0)\n",
      "Requirement already satisfied: keras>=3.2.0 in /Library/Frameworks/Python.framework/Versions/3.12/lib/python3.12/site-packages (from tensorflow) (3.4.1)\n",
      "Requirement already satisfied: wheel<1.0,>=0.23.0 in /Library/Frameworks/Python.framework/Versions/3.12/lib/python3.12/site-packages (from astunparse>=1.6.0->tensorflow) (0.43.0)\n",
      "Requirement already satisfied: rich in /Library/Frameworks/Python.framework/Versions/3.12/lib/python3.12/site-packages (from keras>=3.2.0->tensorflow) (13.7.1)\n",
      "Requirement already satisfied: namex in /Library/Frameworks/Python.framework/Versions/3.12/lib/python3.12/site-packages (from keras>=3.2.0->tensorflow) (0.0.8)\n",
      "Requirement already satisfied: optree in /Library/Frameworks/Python.framework/Versions/3.12/lib/python3.12/site-packages (from keras>=3.2.0->tensorflow) (0.12.1)\n",
      "Requirement already satisfied: charset-normalizer<4,>=2 in /Library/Frameworks/Python.framework/Versions/3.12/lib/python3.12/site-packages (from requests<3,>=2.21.0->tensorflow) (3.3.2)\n",
      "Requirement already satisfied: idna<4,>=2.5 in /Library/Frameworks/Python.framework/Versions/3.12/lib/python3.12/site-packages (from requests<3,>=2.21.0->tensorflow) (3.6)\n",
      "Requirement already satisfied: urllib3<3,>=1.21.1 in /Library/Frameworks/Python.framework/Versions/3.12/lib/python3.12/site-packages (from requests<3,>=2.21.0->tensorflow) (2.2.1)\n",
      "Requirement already satisfied: certifi>=2017.4.17 in /Library/Frameworks/Python.framework/Versions/3.12/lib/python3.12/site-packages (from requests<3,>=2.21.0->tensorflow) (2024.2.2)\n",
      "Requirement already satisfied: markdown>=2.6.8 in /Library/Frameworks/Python.framework/Versions/3.12/lib/python3.12/site-packages (from tensorboard<2.18,>=2.17->tensorflow) (3.6)\n",
      "Requirement already satisfied: tensorboard-data-server<0.8.0,>=0.7.0 in /Library/Frameworks/Python.framework/Versions/3.12/lib/python3.12/site-packages (from tensorboard<2.18,>=2.17->tensorflow) (0.7.2)\n",
      "Requirement already satisfied: werkzeug>=1.0.1 in /Library/Frameworks/Python.framework/Versions/3.12/lib/python3.12/site-packages (from tensorboard<2.18,>=2.17->tensorflow) (3.0.2)\n",
      "Requirement already satisfied: MarkupSafe>=2.1.1 in /Library/Frameworks/Python.framework/Versions/3.12/lib/python3.12/site-packages (from werkzeug>=1.0.1->tensorboard<2.18,>=2.17->tensorflow) (2.1.5)\n",
      "Requirement already satisfied: markdown-it-py>=2.2.0 in /Library/Frameworks/Python.framework/Versions/3.12/lib/python3.12/site-packages (from rich->keras>=3.2.0->tensorflow) (3.0.0)\n",
      "Requirement already satisfied: pygments<3.0.0,>=2.13.0 in /Users/mihiresh/Library/Python/3.12/lib/python/site-packages (from rich->keras>=3.2.0->tensorflow) (2.17.2)\n",
      "Requirement already satisfied: mdurl~=0.1 in /Library/Frameworks/Python.framework/Versions/3.12/lib/python3.12/site-packages (from markdown-it-py>=2.2.0->rich->keras>=3.2.0->tensorflow) (0.1.2)\n"
     ]
    }
   ],
   "source": [
    "!pip3 install pandas numpy scikit-learn matplotlib tensorflow"
   ]
  },
  {
   "cell_type": "code",
   "execution_count": 8,
   "metadata": {},
   "outputs": [],
   "source": [
    "import pandas as pd\n",
    "import numpy as np\n",
    "from sklearn.preprocessing import MinMaxScaler\n",
    "from tensorflow.keras.models import Sequential\n",
    "from tensorflow.keras.layers import LSTM, Dense\n",
    "    "
   ]
  },
  {
   "cell_type": "code",
   "execution_count": 10,
   "metadata": {},
   "outputs": [],
   "source": [
    "\n",
    "# Load the dataset (replace the path with your actual path)\n",
    "data = pd.read_csv('./data/history_data.csv', parse_dates=['DateTime'], index_col='DateTime')\n",
    "\n",
    "# Select relevant pollutant features\n",
    "pollutant_features = ['CO', 'NO', 'NO2', 'O3', 'SO2', 'PM2.5', 'PM10', 'NH3']\n",
    "\n",
    "# Normalize the pollutant features\n",
    "scaler = MinMaxScaler()\n",
    "scaled_data = scaler.fit_transform(data[pollutant_features])\n",
    "\n",
    "# Function to create time series windows\n",
    "def create_sequences(data, seq_length):\n",
    "    sequences = []\n",
    "    labels = []\n",
    "    for i in range(len(data) - seq_length):\n",
    "        sequences.append(data[i:i + seq_length])\n",
    "        labels.append(data[i + seq_length])\n",
    "    return np.array(sequences), np.array(labels)\n",
    "\n",
    "SEQ_LENGTH = 60  # Use past 60 hours (or adjust based on experiment)\n",
    "\n",
    "# Create sequences\n",
    "X, y = create_sequences(scaled_data, SEQ_LENGTH)\n",
    "\n",
    "# Reshape input to be [samples, time steps, features]\n",
    "X = np.reshape(X, (X.shape[0], X.shape[1], len(pollutant_features)))\n",
    "\n",
    "# Split data into train and test sets\n",
    "split = int(0.8 * len(X))\n",
    "X_train, X_test = X[:split], X[split:]\n",
    "y_train, y_test = y[:split], y[split:]\n",
    "    "
   ]
  },
  {
   "cell_type": "code",
   "execution_count": 11,
   "metadata": {},
   "outputs": [
    {
     "name": "stdout",
     "output_type": "stream",
     "text": [
      "Epoch 1/10\n"
     ]
    },
    {
     "name": "stderr",
     "output_type": "stream",
     "text": [
      "/Library/Frameworks/Python.framework/Versions/3.12/lib/python3.12/site-packages/keras/src/layers/rnn/rnn.py:204: UserWarning: Do not pass an `input_shape`/`input_dim` argument to a layer. When using Sequential models, prefer using an `Input(shape)` object as the first layer in the model instead.\n",
      "  super().__init__(**kwargs)\n"
     ]
    },
    {
     "name": "stdout",
     "output_type": "stream",
     "text": [
      "\u001b[1m408/408\u001b[0m \u001b[32m━━━━━━━━━━━━━━━━━━━━\u001b[0m\u001b[37m\u001b[0m \u001b[1m18s\u001b[0m 41ms/step - loss: 0.0146 - val_loss: 0.0019\n",
      "Epoch 2/10\n",
      "\u001b[1m408/408\u001b[0m \u001b[32m━━━━━━━━━━━━━━━━━━━━\u001b[0m\u001b[37m\u001b[0m \u001b[1m17s\u001b[0m 42ms/step - loss: 0.0018 - val_loss: 9.4701e-04\n",
      "Epoch 3/10\n",
      "\u001b[1m408/408\u001b[0m \u001b[32m━━━━━━━━━━━━━━━━━━━━\u001b[0m\u001b[37m\u001b[0m \u001b[1m18s\u001b[0m 43ms/step - loss: 9.1565e-04 - val_loss: 7.0662e-04\n",
      "Epoch 4/10\n",
      "\u001b[1m408/408\u001b[0m \u001b[32m━━━━━━━━━━━━━━━━━━━━\u001b[0m\u001b[37m\u001b[0m \u001b[1m17s\u001b[0m 43ms/step - loss: 6.5148e-04 - val_loss: 8.3882e-04\n",
      "Epoch 5/10\n",
      "\u001b[1m408/408\u001b[0m \u001b[32m━━━━━━━━━━━━━━━━━━━━\u001b[0m\u001b[37m\u001b[0m \u001b[1m17s\u001b[0m 42ms/step - loss: 5.7856e-04 - val_loss: 6.7891e-04\n",
      "Epoch 6/10\n",
      "\u001b[1m408/408\u001b[0m \u001b[32m━━━━━━━━━━━━━━━━━━━━\u001b[0m\u001b[37m\u001b[0m \u001b[1m18s\u001b[0m 43ms/step - loss: 5.2589e-04 - val_loss: 5.6302e-04\n",
      "Epoch 7/10\n",
      "\u001b[1m408/408\u001b[0m \u001b[32m━━━━━━━━━━━━━━━━━━━━\u001b[0m\u001b[37m\u001b[0m \u001b[1m18s\u001b[0m 44ms/step - loss: 4.9402e-04 - val_loss: 5.1990e-04\n",
      "Epoch 8/10\n",
      "\u001b[1m408/408\u001b[0m \u001b[32m━━━━━━━━━━━━━━━━━━━━\u001b[0m\u001b[37m\u001b[0m \u001b[1m18s\u001b[0m 44ms/step - loss: 4.7280e-04 - val_loss: 5.1388e-04\n",
      "Epoch 9/10\n",
      "\u001b[1m408/408\u001b[0m \u001b[32m━━━━━━━━━━━━━━━━━━━━\u001b[0m\u001b[37m\u001b[0m \u001b[1m18s\u001b[0m 44ms/step - loss: 4.2966e-04 - val_loss: 5.4958e-04\n",
      "Epoch 10/10\n",
      "\u001b[1m408/408\u001b[0m \u001b[32m━━━━━━━━━━━━━━━━━━━━\u001b[0m\u001b[37m\u001b[0m \u001b[1m18s\u001b[0m 44ms/step - loss: 4.2463e-04 - val_loss: 4.6175e-04\n"
     ]
    },
    {
     "data": {
      "text/plain": [
       "<keras.src.callbacks.history.History at 0x331e39280>"
      ]
     },
     "execution_count": 11,
     "metadata": {},
     "output_type": "execute_result"
    }
   ],
   "source": [
    "\n",
    "# Build the LSTM model\n",
    "model = Sequential()\n",
    "model.add(LSTM(100, return_sequences=True, input_shape=(SEQ_LENGTH, len(pollutant_features))))\n",
    "model.add(LSTM(100))\n",
    "model.add(Dense(50))\n",
    "model.add(Dense(len(pollutant_features)))  # Output pollutant values for next hour\n",
    "\n",
    "# Compile the model\n",
    "model.compile(optimizer='adam', loss='mean_squared_error')\n",
    "\n",
    "# Train the model\n",
    "model.fit(X_train, y_train, epochs=10, batch_size=64, validation_data=(X_test, y_test))\n",
    "    "
   ]
  },
  {
   "cell_type": "code",
   "execution_count": 20,
   "metadata": {},
   "outputs": [
    {
     "data": {
      "text/plain": [
       "array([[0.04259755, 0.08074651, 0.97463768, 0.93091046, 0.19644685,\n",
       "        0.02289614, 0.91572673, 0.07409657],\n",
       "       [0.03585007, 0.05900465, 0.97450443, 0.9311562 , 0.16855534,\n",
       "        0.02025249, 0.91539251, 0.06635287],\n",
       "       [0.03585007, 0.05755938, 0.97448789, 0.93138984, 0.16332797,\n",
       "        0.02017096, 0.91534868, 0.06544185],\n",
       "       [0.03585007, 0.04216413, 0.97462115, 0.93118133, 0.14589121,\n",
       "        0.01964689, 0.9153432 , 0.06544185],\n",
       "       [0.03585007, 0.03933643, 0.97452096, 0.93112734, 0.13192718,\n",
       "        0.01927422, 0.91538429, 0.06437899],\n",
       "       [0.04006788, 0.04216413, 0.97460461, 0.9309812 , 0.12669981,\n",
       "        0.01955372, 0.91544456, 0.06544185],\n",
       "       [0.0535641 , 0.05617695, 0.9747048 , 0.93081923, 0.12498172,\n",
       "        0.02410733, 0.91602076, 0.0856362 ],\n",
       "       [0.07549592, 0.07377152, 0.97473787, 0.93076431, 0.12322708,\n",
       "        0.03301656, 0.91704076, 0.11342241],\n",
       "       [0.08730527, 0.07025261, 0.97473787, 0.93076617, 0.11799971,\n",
       "        0.03929378, 0.91777402, 0.12496204],\n",
       "       [0.09236587, 0.06321478, 0.97473787, 0.9307671 , 0.11449042,\n",
       "        0.0430904 , 0.91824064, 0.12313999],\n",
       "       [0.09067901, 0.05410331, 0.97473787, 0.93077548, 0.11277234,\n",
       "        0.04328838, 0.9183283 , 0.11448527],\n",
       "       [0.07549592, 0.03650873, 0.97462115, 0.93080806, 0.09968563,\n",
       "        0.03733725, 0.91777311, 0.08943213],\n",
       "       [0.0544069 , 0.01841146, 0.97450443, 0.93090673, 0.08575815,\n",
       "        0.02884727, 0.91671202, 0.06058305],\n",
       "       [0.04259755, 0.01193917, 0.97440424, 0.93100913, 0.0901082 ,\n",
       "        0.025237  , 0.91608103, 0.05192833],\n",
       "       [0.03838101, 0.00886012, 0.97437117, 0.93108545, 0.09796754,\n",
       "        0.02383947, 0.91578882, 0.04949894],\n",
       "       [0.03500601, 0.0061581 , 0.97430406, 0.93123998, 0.09880831,\n",
       "        0.02261664, 0.9156628 , 0.04706954],\n",
       "       [0.03416321, 0.00458716, 0.97428752, 0.93135633, 0.0962129 ,\n",
       "        0.02250017, 0.91569111, 0.0481324 ],\n",
       "       [0.03669288, 0.00546688, 0.97437117, 0.93131444, 0.09880831,\n",
       "        0.0234435 , 0.91582169, 0.05101731],\n",
       "       [0.04597255, 0.01212769, 0.97455403, 0.93110686, 0.104913  ,\n",
       "        0.02701884, 0.91623261, 0.06346796],\n",
       "       [0.06790438, 0.04002765, 0.97477094, 0.9308453 , 0.12498172,\n",
       "        0.0355554 , 0.91716951, 0.09520194],\n",
       "       [0.08730527, 0.08357421, 0.97477094, 0.93083692, 0.14764585,\n",
       "        0.04290406, 0.91801053, 0.1182812 ],\n",
       "       [0.09067901, 0.10255121, 0.97480401, 0.93086019, 0.17027343,\n",
       "        0.0441269 , 0.91820412, 0.1182812 ],\n",
       "       [0.0822434 , 0.09130325, 0.97477094, 0.93096258, 0.17027343,\n",
       "        0.04080777, 0.91791282, 0.1076526 ],\n",
       "       [0.06452938, 0.06459721, 0.9747048 , 0.93122322, 0.15981869,\n",
       "        0.03383178, 0.91720421, 0.08943213],\n",
       "       [0.04681536, 0.03619455, 0.97473787, 0.93138984, 0.14936394,\n",
       "        0.0262502 , 0.91624357, 0.06726389],\n",
       "       [0.04428568, 0.03336685, 0.97465422, 0.9314308 , 0.14238193,\n",
       "        0.02461976, 0.91593492, 0.06255694],\n",
       "       [0.04597255, 0.03719995, 0.97467075, 0.93138147, 0.14238193,\n",
       "        0.02530687, 0.9159468 , 0.06149408],\n",
       "       [0.04428568, 0.03443509, 0.97467075, 0.93131444, 0.13020909,\n",
       "        0.02541169, 0.91598424, 0.06255694],\n",
       "       [0.04091068, 0.02915672, 0.97468729, 0.93120181, 0.12498172,\n",
       "        0.02407239, 0.91587009, 0.05967203],\n",
       "       [0.04091068, 0.02947091, 0.97477094, 0.93102774, 0.12498172,\n",
       "        0.02307083, 0.9157459 , 0.05860917],\n",
       "       [0.0586247 , 0.04775669, 0.97480401, 0.93083226, 0.12322708,\n",
       "        0.02925489, 0.91639607, 0.07698148],\n",
       "       [0.0856184 , 0.07094382, 0.97477094, 0.93076897, 0.12322708,\n",
       "        0.04111057, 0.91766535, 0.10385667],\n",
       "       [0.10080148, 0.07653638, 0.9747048 , 0.93076617, 0.12498172,\n",
       "        0.04964712, 0.91863604, 0.12313999],\n",
       "       [0.11261083, 0.08143773, 0.97468729, 0.93076152, 0.13715455,\n",
       "        0.05584282, 0.91930264, 0.12890981],\n",
       "       [0.12442018, 0.08992082, 0.97473787, 0.93075966, 0.14764585,\n",
       "        0.06090886, 0.91978844, 0.13073186],\n",
       "       [0.11935831, 0.08426543, 0.97480401, 0.93076059, 0.14066384,\n",
       "        0.05729858, 0.91936291, 0.1105375 ],\n",
       "       [0.09405274, 0.06321478, 0.97487112, 0.93076803, 0.13020909,\n",
       "        0.04504693, 0.91800231, 0.0778925 ],\n",
       "       [0.06790438, 0.04109589, 0.97487112, 0.93079224, 0.12322708,\n",
       "        0.03395989, 0.9167038 , 0.05921652],\n",
       "       [0.05103316, 0.02494659, 0.97480401, 0.93085181, 0.11799971,\n",
       "        0.02705378, 0.91590662, 0.05147282],\n",
       "       [0.04175475, 0.01457836, 0.97467075, 0.93097375, 0.11101769,\n",
       "        0.02326881, 0.91549387, 0.04949894],\n",
       "       [0.04259755, 0.01017972, 0.97467075, 0.9310566 , 0.11101769,\n",
       "        0.02336198, 0.91550483, 0.05147282],\n",
       "       [0.04934629, 0.01319593, 0.97490419, 0.93099795, 0.12147244,\n",
       "        0.02644819, 0.91578517, 0.05815366],\n",
       "       [0.06790438, 0.03443509, 0.97523782, 0.9308304 , 0.14238193,\n",
       "        0.0351245 , 0.91664171, 0.07880352],\n",
       "       [0.10586209, 0.08992082, 0.97557144, 0.93076431, 0.1755008 ,\n",
       "        0.05083502, 0.91830182, 0.12207713],\n",
       "       [0.13285579, 0.13623225, 0.97603735, 0.93079503, 0.20167422,\n",
       "        0.05980248, 0.91926977, 0.15001518],\n",
       "       [0.12273331, 0.13340455, 0.97620465, 0.93095886, 0.21388361,\n",
       "        0.05373489, 0.91867987, 0.14044944],\n",
       "       [0.11092396, 0.12498429, 0.97620465, 0.93112269, 0.22956573,\n",
       "        0.0492861 , 0.91823334, 0.13847555],\n",
       "       [0.08899214, 0.10814377, 0.97600428, 0.9313312 , 0.23303846,\n",
       "        0.04140172, 0.91742428, 0.12496204],\n",
       "       [0.0619997 , 0.07446274, 0.97567065, 0.93159742, 0.20690159,\n",
       "        0.030699  , 0.91635406, 0.09808685],\n",
       "       [0.05019036, 0.05127561, 0.9755374 , 0.9315062 , 0.18423746,\n",
       "        0.02613374, 0.91587283, 0.08366231],\n",
       "       [0.04597255, 0.04071886, 0.97560451, 0.93118971, 0.1755008 ,\n",
       "        0.02446836, 0.91566828, 0.0778925 ],\n",
       "       [0.04597255, 0.04071886, 0.9755374 , 0.93101285, 0.1755008 ,\n",
       "        0.02337363, 0.91554683, 0.07500759],\n",
       "       [0.04681536, 0.04354656, 0.97550433, 0.93089835, 0.16855534,\n",
       "        0.0225817 , 0.91547561, 0.07303371],\n",
       "       [0.05019036, 0.04844791, 0.9755374 , 0.93084716, 0.16157333,\n",
       "        0.02287285, 0.91550939, 0.07500759],\n",
       "       [0.06031157, 0.05617695, 0.9757047 , 0.9307941 , 0.15634596,\n",
       "        0.02604057, 0.9158637 , 0.08745824],\n",
       "       [0.07549592, 0.05969587, 0.97587102, 0.93077827, 0.1581006 ,\n",
       "        0.03236438, 0.91655587, 0.10385667],\n",
       "       [0.0856184 , 0.04913912, 0.97590409, 0.93079782, 0.15459131,\n",
       "        0.03741877, 0.91712203, 0.10962648],\n",
       "       [0.09067901, 0.03965062, 0.97600428, 0.93081365, 0.14936394,\n",
       "        0.04135513, 0.91751286, 0.10962648],\n",
       "       [0.10080148, 0.04109589, 0.97610446, 0.93080527, 0.15111858,\n",
       "        0.04708499, 0.91804979, 0.11630732],\n",
       "       [0.09742775, 0.03688576, 0.97607139, 0.93081458, 0.14238193,\n",
       "        0.04576899, 0.91788269, 0.10294564]])"
      ]
     },
     "execution_count": 20,
     "metadata": {},
     "output_type": "execute_result"
    }
   ],
   "source": [
    "X_test[-1]"
   ]
  },
  {
   "cell_type": "code",
   "execution_count": 22,
   "metadata": {},
   "outputs": [],
   "source": [
    "from aqi_cal import ret_future, ret"
   ]
  },
  {
   "cell_type": "code",
   "execution_count": 28,
   "metadata": {},
   "outputs": [
    {
     "name": "stdout",
     "output_type": "stream",
     "text": [
      "{'calulated_values': {'PM10': '39.38', 'PM2.5': '16.93', 'SO2': '2.32', 'NO2': '5.45', 'CO': '8.77', 'O3': '1.38', 'Temperature': '26.88', 'Humidity': '82.47', 'Heat Index': '92.25', 'Relative Humidity': '79.24', 'Pressure': '1,007.05', 'Wind Speed': '3.53'}, 'top_3_pollutants': [{'pollutant': 'PM10', 'average': '39.38', 'industry_strategies': ['Adopt Clean Technologies', 'Improve Emission Standards', 'Dust Control Measures'], 'personal_strategies': ['Use Air Purifiers', 'Wear Masks', 'Avoid Outdoor Activities']}, {'pollutant': 'PM2.5', 'average': '16.93', 'industry_strategies': ['Enhance Air Filtration Systems', 'Switch to Cleaner Fuels', 'Implement Emission Controls'], 'personal_strategies': ['Limit Outdoor Activities', 'Use Air Purifiers', 'Wear N95 Masks']}, {'pollutant': 'CO', 'average': '8.77', 'industry_strategies': ['Engine Tuning and Maintenance', 'Promote Electric Vehicles', 'Improve Combustion Efficiency'], 'personal_strategies': ['Install CO Detectors', 'Regular Vehicle Maintenance', 'Avoid Idling']}]}\n",
      "\n",
      "Type: <class 'int'>\n",
      "\n",
      "\n",
      "Data: \n",
      "{'PM10': 39, 'NO2': 1, 'O3': 5, 'SO2': 2, 'NH3': 0, 'PM2.5': 16, 'CO': 0}\n",
      "{'PM10': 39.0, 'NO2': 1.25, 'O3': 5.0, 'SO2': 2.5, 'NH3': 0.0, 'PM2.5': 26.667, 'CO': 0.0}\n",
      "39.0\n",
      "Remark: Good\n",
      " Impact: Minimal impact\n"
     ]
    },
    {
     "name": "stderr",
     "output_type": "stream",
     "text": [
      "/Library/Frameworks/Python.framework/Versions/3.12/lib/python3.12/site-packages/sklearn/base.py:493: UserWarning: X does not have valid feature names, but MinMaxScaler was fitted with feature names\n",
      "  warnings.warn(\n"
     ]
    },
    {
     "ename": "ValueError",
     "evalue": "cannot reshape array of size 8 into shape (1,60,8)",
     "output_type": "error",
     "traceback": [
      "\u001b[0;31m---------------------------------------------------------------------------\u001b[0m",
      "\u001b[0;31mValueError\u001b[0m                                Traceback (most recent call last)",
      "Cell \u001b[0;32mIn[28], line 52\u001b[0m\n\u001b[1;32m     49\u001b[0m current_pollutants_scaled \u001b[38;5;241m=\u001b[39m fetch_current_pollutant_data()\n\u001b[1;32m     51\u001b[0m \u001b[38;5;66;03m# Forecast pollutant levels for the next 8 hours based on the current values from the API\u001b[39;00m\n\u001b[0;32m---> 52\u001b[0m predicted_pollutants \u001b[38;5;241m=\u001b[39m \u001b[43mforecast_next_hours_with_api\u001b[49m\u001b[43m(\u001b[49m\u001b[43mmodel\u001b[49m\u001b[43m,\u001b[49m\u001b[43m \u001b[49m\u001b[43mcurrent_pollutants_scaled\u001b[49m\u001b[43m,\u001b[49m\u001b[43m \u001b[49m\u001b[43mscaler\u001b[49m\u001b[43m)\u001b[49m\n\u001b[1;32m     54\u001b[0m predicted_pollutants  \u001b[38;5;66;03m# This will give you the predicted pollutant values for the next 8 hours\u001b[39;00m\n",
      "Cell \u001b[0;32mIn[28], line 32\u001b[0m, in \u001b[0;36mforecast_next_hours_with_api\u001b[0;34m(model, current_values, scaler, forecast_hours)\u001b[0m\n\u001b[1;32m     28\u001b[0m current_input \u001b[38;5;241m=\u001b[39m current_values\u001b[38;5;241m.\u001b[39mcopy()  \u001b[38;5;66;03m# Start with current values\u001b[39;00m\n\u001b[1;32m     30\u001b[0m \u001b[38;5;28;01mfor\u001b[39;00m _ \u001b[38;5;129;01min\u001b[39;00m \u001b[38;5;28mrange\u001b[39m(forecast_hours):\n\u001b[1;32m     31\u001b[0m     \u001b[38;5;66;03m# Reshape input to [1, SEQ_LENGTH, number_of_features]\u001b[39;00m\n\u001b[0;32m---> 32\u001b[0m     current_input \u001b[38;5;241m=\u001b[39m \u001b[43mnp\u001b[49m\u001b[38;5;241;43m.\u001b[39;49m\u001b[43mreshape\u001b[49m\u001b[43m(\u001b[49m\u001b[43mcurrent_input\u001b[49m\u001b[43m,\u001b[49m\u001b[43m \u001b[49m\u001b[43m(\u001b[49m\u001b[38;5;241;43m1\u001b[39;49m\u001b[43m,\u001b[49m\u001b[43m \u001b[49m\u001b[43mSEQ_LENGTH\u001b[49m\u001b[43m,\u001b[49m\u001b[43m \u001b[49m\u001b[38;5;28;43mlen\u001b[39;49m\u001b[43m(\u001b[49m\u001b[43mpollutant_features\u001b[49m\u001b[43m)\u001b[49m\u001b[43m)\u001b[49m\u001b[43m)\u001b[49m\n\u001b[1;32m     34\u001b[0m     \u001b[38;5;66;03m# Predict the next hour pollutants\u001b[39;00m\n\u001b[1;32m     35\u001b[0m     predicted_pollutants \u001b[38;5;241m=\u001b[39m model\u001b[38;5;241m.\u001b[39mpredict(current_input)\n",
      "File \u001b[0;32m/Library/Frameworks/Python.framework/Versions/3.12/lib/python3.12/site-packages/numpy/core/fromnumeric.py:285\u001b[0m, in \u001b[0;36mreshape\u001b[0;34m(a, newshape, order)\u001b[0m\n\u001b[1;32m    200\u001b[0m \u001b[38;5;129m@array_function_dispatch\u001b[39m(_reshape_dispatcher)\n\u001b[1;32m    201\u001b[0m \u001b[38;5;28;01mdef\u001b[39;00m \u001b[38;5;21mreshape\u001b[39m(a, newshape, order\u001b[38;5;241m=\u001b[39m\u001b[38;5;124m'\u001b[39m\u001b[38;5;124mC\u001b[39m\u001b[38;5;124m'\u001b[39m):\n\u001b[1;32m    202\u001b[0m \u001b[38;5;250m    \u001b[39m\u001b[38;5;124;03m\"\"\"\u001b[39;00m\n\u001b[1;32m    203\u001b[0m \u001b[38;5;124;03m    Gives a new shape to an array without changing its data.\u001b[39;00m\n\u001b[1;32m    204\u001b[0m \n\u001b[0;32m   (...)\u001b[0m\n\u001b[1;32m    283\u001b[0m \u001b[38;5;124;03m           [5, 6]])\u001b[39;00m\n\u001b[1;32m    284\u001b[0m \u001b[38;5;124;03m    \"\"\"\u001b[39;00m\n\u001b[0;32m--> 285\u001b[0m     \u001b[38;5;28;01mreturn\u001b[39;00m \u001b[43m_wrapfunc\u001b[49m\u001b[43m(\u001b[49m\u001b[43ma\u001b[49m\u001b[43m,\u001b[49m\u001b[43m \u001b[49m\u001b[38;5;124;43m'\u001b[39;49m\u001b[38;5;124;43mreshape\u001b[39;49m\u001b[38;5;124;43m'\u001b[39;49m\u001b[43m,\u001b[49m\u001b[43m \u001b[49m\u001b[43mnewshape\u001b[49m\u001b[43m,\u001b[49m\u001b[43m \u001b[49m\u001b[43morder\u001b[49m\u001b[38;5;241;43m=\u001b[39;49m\u001b[43morder\u001b[49m\u001b[43m)\u001b[49m\n",
      "File \u001b[0;32m/Library/Frameworks/Python.framework/Versions/3.12/lib/python3.12/site-packages/numpy/core/fromnumeric.py:59\u001b[0m, in \u001b[0;36m_wrapfunc\u001b[0;34m(obj, method, *args, **kwds)\u001b[0m\n\u001b[1;32m     56\u001b[0m     \u001b[38;5;28;01mreturn\u001b[39;00m _wrapit(obj, method, \u001b[38;5;241m*\u001b[39margs, \u001b[38;5;241m*\u001b[39m\u001b[38;5;241m*\u001b[39mkwds)\n\u001b[1;32m     58\u001b[0m \u001b[38;5;28;01mtry\u001b[39;00m:\n\u001b[0;32m---> 59\u001b[0m     \u001b[38;5;28;01mreturn\u001b[39;00m \u001b[43mbound\u001b[49m\u001b[43m(\u001b[49m\u001b[38;5;241;43m*\u001b[39;49m\u001b[43margs\u001b[49m\u001b[43m,\u001b[49m\u001b[43m \u001b[49m\u001b[38;5;241;43m*\u001b[39;49m\u001b[38;5;241;43m*\u001b[39;49m\u001b[43mkwds\u001b[49m\u001b[43m)\u001b[49m\n\u001b[1;32m     60\u001b[0m \u001b[38;5;28;01mexcept\u001b[39;00m \u001b[38;5;167;01mTypeError\u001b[39;00m:\n\u001b[1;32m     61\u001b[0m     \u001b[38;5;66;03m# A TypeError occurs if the object does have such a method in its\u001b[39;00m\n\u001b[1;32m     62\u001b[0m     \u001b[38;5;66;03m# class, but its signature is not identical to that of NumPy's. This\u001b[39;00m\n\u001b[0;32m   (...)\u001b[0m\n\u001b[1;32m     66\u001b[0m     \u001b[38;5;66;03m# Call _wrapit from within the except clause to ensure a potential\u001b[39;00m\n\u001b[1;32m     67\u001b[0m     \u001b[38;5;66;03m# exception has a traceback chain.\u001b[39;00m\n\u001b[1;32m     68\u001b[0m     \u001b[38;5;28;01mreturn\u001b[39;00m _wrapit(obj, method, \u001b[38;5;241m*\u001b[39margs, \u001b[38;5;241m*\u001b[39m\u001b[38;5;241m*\u001b[39mkwds)\n",
      "\u001b[0;31mValueError\u001b[0m: cannot reshape array of size 8 into shape (1,60,8)"
     ]
    }
   ],
   "source": [
    "# Assuming you have the ret() function that fetches real-time data\n",
    "def fetch_current_pollutant_data():\n",
    "    # This calls your ret() function to get the current pollutants\n",
    "    api_data = ret()\n",
    "    \n",
    "    # Extract pollutant values from the API response (without 'NO')\n",
    "    current_pollutants = [\n",
    "        api_data['pollutants']['CO'],       # CO\n",
    "        0,                                  # Placeholder for 'NO'\n",
    "        api_data['pollutants']['NO2'],      # NO2\n",
    "        api_data['pollutants']['O3'],       # Ozone (O3)\n",
    "        api_data['pollutants']['SO2'],      # SO2\n",
    "        api_data['pollutants']['PM2.5'],    # PM2.5\n",
    "        api_data['pollutants']['PM10'],     # PM10\n",
    "        api_data['pollutants']['NH3']       # NH3\n",
    "    ]\n",
    "    \n",
    "    # Normalize the current pollutant values using the same scaler used for training\n",
    "    current_pollutants_scaled = scaler.transform([current_pollutants])\n",
    "    \n",
    "    # Return the current values in the proper format for LSTM input\n",
    "    return current_pollutants_scaled\n",
    "\n",
    "\n",
    "# Forecasting Function (with API current data as input)\n",
    "def forecast_next_hours_with_api(model, current_values, scaler, forecast_hours=8):\n",
    "    predictions = []\n",
    "    current_input = current_values.copy()  # Start with current values\n",
    "    \n",
    "    for _ in range(forecast_hours):\n",
    "        # Reshape input to [1, SEQ_LENGTH, number_of_features]\n",
    "        current_input = np.reshape(current_input, (1, SEQ_LENGTH, len(pollutant_features)))\n",
    "        \n",
    "        # Predict the next hour pollutants\n",
    "        predicted_pollutants = model.predict(current_input)\n",
    "        \n",
    "        # Inverse transform the predicted pollutant values to their original scale\n",
    "        predicted_pollutants = scaler.inverse_transform(predicted_pollutants)\n",
    "        \n",
    "        # Store predictions\n",
    "        predictions.append(predicted_pollutants)\n",
    "        \n",
    "        # Update input (shift the window forward and append new predictions)\n",
    "        current_input = np.append(current_input[:, 1:, :], predicted_pollutants.reshape(1, 1, len(pollutant_features)), axis=1)\n",
    "    \n",
    "    return np.array(predictions).reshape(forecast_hours, len(pollutant_features))\n",
    "\n",
    "# Fetch current pollutant data from the API\n",
    "current_pollutants_scaled = fetch_current_pollutant_data()\n",
    "\n",
    "# Forecast pollutant levels for the next 8 hours based on the current values from the API\n",
    "predicted_pollutants = forecast_next_hours_with_api(model, current_pollutants_scaled, scaler)\n",
    "\n",
    "predicted_pollutants  # This will give you the predicted pollutant values for the next 8 hours\n"
   ]
  },
  {
   "cell_type": "code",
   "execution_count": 14,
   "metadata": {},
   "outputs": [
    {
     "name": "stdout",
     "output_type": "stream",
     "text": [
      "Hour 1: AQI = 4.017, Remark = Good, Impact = Minimal impact\n",
      "Hour 2: AQI = 3.57, Remark = Good, Impact = Minimal impact\n",
      "Hour 3: AQI = 3.205, Remark = Good, Impact = Minimal impact\n",
      "Hour 4: AQI = 2.955, Remark = Good, Impact = Minimal impact\n",
      "Hour 5: AQI = 2.844, Remark = Good, Impact = Minimal impact\n",
      "Hour 6: AQI = 2.852, Remark = Good, Impact = Minimal impact\n",
      "Hour 7: AQI = 2.934, Remark = Good, Impact = Minimal impact\n",
      "Hour 8: AQI = 3.039, Remark = Good, Impact = Minimal impact\n"
     ]
    }
   ],
   "source": [
    "# Example modified Step 5 for calculating AQI with custom function\n",
    "\n",
    "# Define the ret_future() function using your pollutant forecasting logic\n",
    "def calculate_future_aqi(predicted_pollutants, time_step):\n",
    "    # Extract individual pollutants from the predicted pollutant array\n",
    "    pm2_5 = predicted_pollutants[5]  # PM2.5\n",
    "    pm10 = predicted_pollutants[6]   # PM10\n",
    "    no2 = predicted_pollutants[2]    # NO2\n",
    "    co = predicted_pollutants[0]     # CO\n",
    "    so2 = predicted_pollutants[4]    # SO2\n",
    "\n",
    "    # Calculate AQI using the custom ret_future function\n",
    "    future_aqi = ret_future(pm2_5, pm10, no2, co, so2, time_step)\n",
    "    \n",
    "    return future_aqi\n",
    "\n",
    "# Calculate AQI for each of the next 8 hours based on the predicted pollutant values\n",
    "aqi_forecast = [calculate_future_aqi(predicted_pollutants[i], i+1) for i in range(8)]\n",
    "\n",
    "# Show AQI forecast with remarks and impact for each hour\n",
    "for i, forecast in enumerate(aqi_forecast):\n",
    "    print(f\"Hour {i+1}: AQI = {forecast['aqi']}, Remark = {forecast['remark']}, Impact = {forecast['impact']}\")\n"
   ]
  },
  {
   "cell_type": "code",
   "execution_count": null,
   "metadata": {},
   "outputs": [],
   "source": []
  }
 ],
 "metadata": {
  "kernelspec": {
   "display_name": "Python 3",
   "language": "python",
   "name": "python3"
  },
  "language_info": {
   "codemirror_mode": {
    "name": "ipython",
    "version": 3
   },
   "file_extension": ".py",
   "mimetype": "text/x-python",
   "name": "python",
   "nbconvert_exporter": "python",
   "pygments_lexer": "ipython3",
   "version": "3.12.2"
  }
 },
 "nbformat": 4,
 "nbformat_minor": 2
}
